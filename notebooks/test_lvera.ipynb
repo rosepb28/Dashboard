{
 "cells": [
  {
   "cell_type": "code",
   "execution_count": 32,
   "metadata": {},
   "outputs": [],
   "source": [
    "import os\n",
    "import pandas as pd\n",
    "from tqdm import tqdm\n",
    "import numpy as np\n",
    "import datetime\n",
    "from datetime import date, timedelta"
   ]
  },
  {
   "cell_type": "code",
   "execution_count": 33,
   "metadata": {},
   "outputs": [],
   "source": [
    "url = 'Data/url.html'\n",
    "list_file = 'Data/lista.xlsx'\n",
    "data_path = 'Data'"
   ]
  },
  {
   "cell_type": "code",
   "execution_count": 51,
   "metadata": {},
   "outputs": [],
   "source": [
    "def create_csv_if_not_exists(st_file):\n",
    "    if not os.path.exists(st_file):\n",
    "        # Crear DataFrame con los últimos 6 días en la columna 'Fecha'\n",
    "        fecha_actual = pd.Timestamp.now().date()\n",
    "        fechas = pd.date_range(end=fecha_actual, periods=45)\n",
    "        fechas_str = fechas.strftime('%Y-%m-%d')\n",
    "        df = pd.DataFrame({'Fecha': fechas_str, 'Tmax': -999, 'Tmin': -999, 'PP': -999})\n",
    "\n",
    "        # Guardar DataFrame en un archivo CSV\n",
    "        df.to_csv(st_file, index=False)\n",
    "        print(f\"Archivo {st_file} creado exitosamente.\")"
   ]
  },
  {
   "cell_type": "code",
   "execution_count": 36,
   "metadata": {},
   "outputs": [],
   "source": [
    "# Filtro de estaciones\n",
    "ss = pd.read_excel(list_file)\n",
    "ss = ss[ss[\"Dash\"] == 1]\n",
    "\n",
    "f = open(url)\n",
    "rpc = pd.read_html(f.read(), header=[0, 1])[0]\n",
    "\n",
    "# Arreglando encabezados\n",
    "rpc.columns = [c[0] if c[0] == c[1] else \"_\".join(c) for c in rpc.columns.values]\n",
    "rpc.columns.values[\n",
    "    5\n",
    "] = \"Estacion\"  # Modificar directamente los valores de la columna\n",
    "\n",
    "# Formateando códigos de estaciones\n",
    "rpc[\"Cod_Ant.\"] = rpc[\"Cod_Ant.\"].map(lambda x: \"%06d\" % x)\n",
    "rpc[\"Cod.\"] = rpc[\"Cod.\"].map(lambda x: \"%d\" % x)\n",
    "\n",
    "# Seleccionando solo los que hay en la web\n",
    "idd = ss[\"Cod\"].isin(rpc[\"Cod.\"])\n",
    "ss_rpc = ss[idd]\n",
    "v_rpc = [\"MAX\", \"MIN\", \"PP\"]\n",
    "v_df = [\"Tmax\", \"Tmin\", \"PP\"]"
   ]
  },
  {
   "cell_type": "code",
   "execution_count": 59,
   "metadata": {},
   "outputs": [
    {
     "name": "stderr",
     "output_type": "stream",
     "text": [
      "Leyendo datos de web lvera: 100%|\u001b[36m██████████\u001b[0m| 22/22 [00:00<00:00, 57.44it/s]\n"
     ]
    }
   ],
   "source": [
    "data_dict = {}\n",
    "for i in tqdm(range(len(ss_rpc)), desc=\"Leyendo datos de web lvera\", colour=\"cyan\"):\n",
    "    cod, prv, st = ss_rpc[['Cod', 'Provincia', 'Nombre']].values[i]\n",
    "    \n",
    "    # Leyendo csv's con datos\n",
    "    st_file = os.path.join(data_path, f'Series/{prv}/{cod}_{st}.csv')\n",
    "    \n",
    "    try:\n",
    "        data = pd.read_csv(st_file)\n",
    "    except:\n",
    "        create_csv_if_not_exists(st_file)\n",
    "        data = pd.read_csv(st_file)\n",
    "\n",
    "    data['Fecha'] = pd.to_datetime(data['Fecha'])\n",
    "    \n",
    "    # Creando rango de fechas con última fecha de csv hasta día actual\n",
    "    fe = pd.date_range(start=data['Fecha'].values[-1], end=date.today(), closed='right')\n",
    "\n",
    "    # Generando dataframe vacío con nuevo rango de fechas\n",
    "    nn = pd.DataFrame({\n",
    "        'Fecha': fe,\n",
    "        'Tmax': np.full(len(fe), -999),\n",
    "        'Tmin': np.full(len(fe), -999),\n",
    "        'PP': np.full(len(fe), -999),\n",
    "    })\n",
    "    \n",
    "    # Uniendo data de csv's con nuevo dataframe\n",
    "    df = pd.concat([data, nn], ignore_index=True)\n",
    "    \n",
    "    # Bucle para extraer data de web de cada columna y asignarlo al dataframe\n",
    "    for a, b in zip(v_rpc, v_df):\n",
    "        vc = [x for x in rpc.columns if a in x]\n",
    "        ld = date.today() - timedelta(days=1)\n",
    "        if a == \"MIN\":\n",
    "            ld = date.today()\n",
    "        ff = pd.date_range(end=ld, periods=len(vc))\n",
    "        df.loc[df[\"Fecha\"].isin(ff), b] = (\n",
    "            rpc.loc[rpc[\"Cod.\"] == cod, vc].values[0].tolist()\n",
    "        )\n",
    "    \n",
    "    data_dict[st] = df.tail(45)"
   ]
  }
 ],
 "metadata": {
  "kernelspec": {
   "display_name": "dz3",
   "language": "python",
   "name": "python3"
  },
  "language_info": {
   "codemirror_mode": {
    "name": "ipython",
    "version": 3
   },
   "file_extension": ".py",
   "mimetype": "text/x-python",
   "name": "python",
   "nbconvert_exporter": "python",
   "pygments_lexer": "ipython3",
   "version": "3.8.10"
  },
  "orig_nbformat": 4
 },
 "nbformat": 4,
 "nbformat_minor": 2
}
