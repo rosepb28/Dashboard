{
 "cells": [
  {
   "cell_type": "code",
   "execution_count": 1,
   "metadata": {},
   "outputs": [
    {
     "name": "stdout",
     "output_type": "stream",
     "text": [
      "Leyendo datos desde archivo guardado.\n"
     ]
    }
   ],
   "source": [
    "from dashboard import Dashboard\n",
    "ds = Dashboard(graphs=False)"
   ]
  },
  {
   "cell_type": "code",
   "execution_count": 2,
   "metadata": {},
   "outputs": [],
   "source": [
    "import yaml\n",
    "with open(\"config.yaml\", \"r\") as f:\n",
    "    config = yaml.safe_load(f)"
   ]
  },
  {
   "cell_type": "code",
   "execution_count": 3,
   "metadata": {},
   "outputs": [],
   "source": [
    "from src.calculations import Decadiarias\n",
    "import numpy as np\n",
    "import pandas as pd"
   ]
  },
  {
   "cell_type": "code",
   "execution_count": 4,
   "metadata": {},
   "outputs": [],
   "source": [
    "df = ds.pp[ds.pp.index.month == ds.this_month]\n",
    "# Creando dataframe de precipitación y añadiendo columna con nro de decadiaria\n",
    "df.insert(0, \"Decadiaria\", np.nan)\n",
    "\n",
    "df.loc[df.index.day <= 10, \"Decadiaria\"] = 1\n",
    "df.loc[(df.index.day > 10) & (df.index.day <= 20), \"Decadiaria\"] = 2\n",
    "df.loc[df.index.day > 20, \"Decadiaria\"] = 3"
   ]
  },
  {
   "cell_type": "code",
   "execution_count": 7,
   "metadata": {},
   "outputs": [],
   "source": [
    "# Calculando suma de valores por decadiaria\n",
    "sum_df = df.groupby(pd.Grouper(\"Decadiaria\")).sum()"
   ]
  },
  {
   "cell_type": "code",
   "execution_count": 8,
   "metadata": {},
   "outputs": [],
   "source": [
    "self_dc = pd.read_excel(ds.dec_file)\n",
    "# Escogiendo decadiarias del mes actual:\n",
    "dc = self_dc[self_dc[\"MES\"] == ds.this_month]"
   ]
  },
  {
   "cell_type": "code",
   "execution_count": 10,
   "metadata": {},
   "outputs": [],
   "source": [
    "# Omitiendo estaciones con normales iguales a 0\n",
    "columns_to_drop = []\n",
    "for i in dc.columns[2:]:\n",
    "    if (dc[i] == 0).any():\n",
    "        columns_to_drop.append(i)"
   ]
  },
  {
   "cell_type": "code",
   "execution_count": 12,
   "metadata": {},
   "outputs": [
    {
     "name": "stdout",
     "output_type": "stream",
     "text": [
      "CASCABAMBA no se encuentra disponible en la web.\n",
      "Excluyendo CASCABAMBA de columns_to_drop\n"
     ]
    }
   ],
   "source": [
    "# New lines\n",
    "for s in columns_to_drop:\n",
    "    if s not in sum_df.columns:\n",
    "        print(f\"{s} no se encuentra disponible en la web.\")\n",
    "        print(f\"Excluyendo {s} de columns_to_drop\")\n",
    "        columns_to_drop.remove(s)"
   ]
  },
  {
   "cell_type": "code",
   "execution_count": 14,
   "metadata": {},
   "outputs": [],
   "source": [
    "dc.drop(columns=columns_to_drop, inplace=True)"
   ]
  },
  {
   "cell_type": "code",
   "execution_count": 16,
   "metadata": {},
   "outputs": [],
   "source": [
    "sum_df.drop(columns=columns_to_drop, inplace=True)"
   ]
  },
  {
   "cell_type": "code",
   "execution_count": 17,
   "metadata": {},
   "outputs": [],
   "source": [
    "ee = sum_df.columns\n",
    "idd = sum_df.columns.isin(dc.columns)\n",
    "sum_df_f = sum_df[ee[idd]]  # filtro de estaciones con decadiarias\n",
    "dc_f = dc[ee[idd]]  # filtro en archivo de decadiarias\n",
    "\n",
    "    #return sum_df_f, dc_f"
   ]
  },
  {
   "cell_type": "code",
   "execution_count": 9,
   "metadata": {},
   "outputs": [
    {
     "ename": "KeyError",
     "evalue": "\"['CASCABAMBA'] not found in axis\"",
     "output_type": "error",
     "traceback": [
      "\u001b[1;31m---------------------------------------------------------------------------\u001b[0m",
      "\u001b[1;31mKeyError\u001b[0m                                  Traceback (most recent call last)",
      "Cell \u001b[1;32mIn[9], line 1\u001b[0m\n\u001b[1;32m----> 1\u001b[0m dec_data \u001b[39m=\u001b[39m Decadiarias(ds\u001b[39m.\u001b[39;49mpp, ds\u001b[39m.\u001b[39;49mthis_month, ds\u001b[39m.\u001b[39;49mfile, ds\u001b[39m.\u001b[39;49mdec_file)\n",
      "File \u001b[1;32mc:\\Users\\rosam\\Documents\\Dashboard\\src\\calculations.py:815\u001b[0m, in \u001b[0;36mDecadiarias.__init__\u001b[1;34m(self, pp, this_month, file, dec_file)\u001b[0m\n\u001b[0;32m    813\u001b[0m \u001b[39mself\u001b[39m\u001b[39m.\u001b[39mfile \u001b[39m=\u001b[39m file\n\u001b[0;32m    814\u001b[0m \u001b[39mself\u001b[39m\u001b[39m.\u001b[39mdc \u001b[39m=\u001b[39m pd\u001b[39m.\u001b[39mread_excel(dec_file)\n\u001b[1;32m--> 815\u001b[0m \u001b[39mself\u001b[39;49m\u001b[39m.\u001b[39;49mdf_prep()\n",
      "File \u001b[1;32mc:\\Users\\rosam\\Documents\\Dashboard\\src\\calculations.py:846\u001b[0m, in \u001b[0;36mDecadiarias.df_prep\u001b[1;34m(self)\u001b[0m\n\u001b[0;32m    843\u001b[0m         \u001b[39mself\u001b[39m\u001b[39m.\u001b[39mcolumns_to_drop\u001b[39m.\u001b[39mappend(i)\n\u001b[0;32m    845\u001b[0m dc\u001b[39m.\u001b[39mdrop(columns\u001b[39m=\u001b[39m\u001b[39mself\u001b[39m\u001b[39m.\u001b[39mcolumns_to_drop, inplace\u001b[39m=\u001b[39m\u001b[39mTrue\u001b[39;00m)\n\u001b[1;32m--> 846\u001b[0m sum_df\u001b[39m.\u001b[39;49mdrop(columns\u001b[39m=\u001b[39;49m\u001b[39mself\u001b[39;49m\u001b[39m.\u001b[39;49mcolumns_to_drop, inplace\u001b[39m=\u001b[39;49m\u001b[39mTrue\u001b[39;49;00m)\n\u001b[0;32m    848\u001b[0m ee \u001b[39m=\u001b[39m sum_df\u001b[39m.\u001b[39mcolumns\n\u001b[0;32m    849\u001b[0m idd \u001b[39m=\u001b[39m sum_df\u001b[39m.\u001b[39mcolumns\u001b[39m.\u001b[39misin(dc\u001b[39m.\u001b[39mcolumns)\n",
      "File \u001b[1;32mc:\\Users\\rosam\\miniconda3\\envs\\dz3\\lib\\site-packages\\pandas\\util\\_decorators.py:311\u001b[0m, in \u001b[0;36mdeprecate_nonkeyword_arguments.<locals>.decorate.<locals>.wrapper\u001b[1;34m(*args, **kwargs)\u001b[0m\n\u001b[0;32m    305\u001b[0m \u001b[39mif\u001b[39;00m \u001b[39mlen\u001b[39m(args) \u001b[39m>\u001b[39m num_allow_args:\n\u001b[0;32m    306\u001b[0m     warnings\u001b[39m.\u001b[39mwarn(\n\u001b[0;32m    307\u001b[0m         msg\u001b[39m.\u001b[39mformat(arguments\u001b[39m=\u001b[39marguments),\n\u001b[0;32m    308\u001b[0m         \u001b[39mFutureWarning\u001b[39;00m,\n\u001b[0;32m    309\u001b[0m         stacklevel\u001b[39m=\u001b[39mstacklevel,\n\u001b[0;32m    310\u001b[0m     )\n\u001b[1;32m--> 311\u001b[0m \u001b[39mreturn\u001b[39;00m func(\u001b[39m*\u001b[39;49margs, \u001b[39m*\u001b[39;49m\u001b[39m*\u001b[39;49mkwargs)\n",
      "File \u001b[1;32mc:\\Users\\rosam\\miniconda3\\envs\\dz3\\lib\\site-packages\\pandas\\core\\frame.py:4906\u001b[0m, in \u001b[0;36mDataFrame.drop\u001b[1;34m(self, labels, axis, index, columns, level, inplace, errors)\u001b[0m\n\u001b[0;32m   4774\u001b[0m \u001b[39m@deprecate_nonkeyword_arguments\u001b[39m(version\u001b[39m=\u001b[39m\u001b[39mNone\u001b[39;00m, allowed_args\u001b[39m=\u001b[39m[\u001b[39m\"\u001b[39m\u001b[39mself\u001b[39m\u001b[39m\"\u001b[39m, \u001b[39m\"\u001b[39m\u001b[39mlabels\u001b[39m\u001b[39m\"\u001b[39m])\n\u001b[0;32m   4775\u001b[0m \u001b[39mdef\u001b[39;00m \u001b[39mdrop\u001b[39m(\n\u001b[0;32m   4776\u001b[0m     \u001b[39mself\u001b[39m,\n\u001b[1;32m   (...)\u001b[0m\n\u001b[0;32m   4783\u001b[0m     errors: \u001b[39mstr\u001b[39m \u001b[39m=\u001b[39m \u001b[39m\"\u001b[39m\u001b[39mraise\u001b[39m\u001b[39m\"\u001b[39m,\n\u001b[0;32m   4784\u001b[0m ):\n\u001b[0;32m   4785\u001b[0m \u001b[39m    \u001b[39m\u001b[39m\"\"\"\u001b[39;00m\n\u001b[0;32m   4786\u001b[0m \u001b[39m    Drop specified labels from rows or columns.\u001b[39;00m\n\u001b[0;32m   4787\u001b[0m \n\u001b[1;32m   (...)\u001b[0m\n\u001b[0;32m   4904\u001b[0m \u001b[39m            weight  1.0     0.8\u001b[39;00m\n\u001b[0;32m   4905\u001b[0m \u001b[39m    \"\"\"\u001b[39;00m\n\u001b[1;32m-> 4906\u001b[0m     \u001b[39mreturn\u001b[39;00m \u001b[39msuper\u001b[39;49m()\u001b[39m.\u001b[39;49mdrop(\n\u001b[0;32m   4907\u001b[0m         labels\u001b[39m=\u001b[39;49mlabels,\n\u001b[0;32m   4908\u001b[0m         axis\u001b[39m=\u001b[39;49maxis,\n\u001b[0;32m   4909\u001b[0m         index\u001b[39m=\u001b[39;49mindex,\n\u001b[0;32m   4910\u001b[0m         columns\u001b[39m=\u001b[39;49mcolumns,\n\u001b[0;32m   4911\u001b[0m         level\u001b[39m=\u001b[39;49mlevel,\n\u001b[0;32m   4912\u001b[0m         inplace\u001b[39m=\u001b[39;49minplace,\n\u001b[0;32m   4913\u001b[0m         errors\u001b[39m=\u001b[39;49merrors,\n\u001b[0;32m   4914\u001b[0m     )\n",
      "File \u001b[1;32mc:\\Users\\rosam\\miniconda3\\envs\\dz3\\lib\\site-packages\\pandas\\core\\generic.py:4150\u001b[0m, in \u001b[0;36mNDFrame.drop\u001b[1;34m(self, labels, axis, index, columns, level, inplace, errors)\u001b[0m\n\u001b[0;32m   4148\u001b[0m \u001b[39mfor\u001b[39;00m axis, labels \u001b[39min\u001b[39;00m axes\u001b[39m.\u001b[39mitems():\n\u001b[0;32m   4149\u001b[0m     \u001b[39mif\u001b[39;00m labels \u001b[39mis\u001b[39;00m \u001b[39mnot\u001b[39;00m \u001b[39mNone\u001b[39;00m:\n\u001b[1;32m-> 4150\u001b[0m         obj \u001b[39m=\u001b[39m obj\u001b[39m.\u001b[39;49m_drop_axis(labels, axis, level\u001b[39m=\u001b[39;49mlevel, errors\u001b[39m=\u001b[39;49merrors)\n\u001b[0;32m   4152\u001b[0m \u001b[39mif\u001b[39;00m inplace:\n\u001b[0;32m   4153\u001b[0m     \u001b[39mself\u001b[39m\u001b[39m.\u001b[39m_update_inplace(obj)\n",
      "File \u001b[1;32mc:\\Users\\rosam\\miniconda3\\envs\\dz3\\lib\\site-packages\\pandas\\core\\generic.py:4185\u001b[0m, in \u001b[0;36mNDFrame._drop_axis\u001b[1;34m(self, labels, axis, level, errors)\u001b[0m\n\u001b[0;32m   4183\u001b[0m         new_axis \u001b[39m=\u001b[39m axis\u001b[39m.\u001b[39mdrop(labels, level\u001b[39m=\u001b[39mlevel, errors\u001b[39m=\u001b[39merrors)\n\u001b[0;32m   4184\u001b[0m     \u001b[39melse\u001b[39;00m:\n\u001b[1;32m-> 4185\u001b[0m         new_axis \u001b[39m=\u001b[39m axis\u001b[39m.\u001b[39;49mdrop(labels, errors\u001b[39m=\u001b[39;49merrors)\n\u001b[0;32m   4186\u001b[0m     result \u001b[39m=\u001b[39m \u001b[39mself\u001b[39m\u001b[39m.\u001b[39mreindex(\u001b[39m*\u001b[39m\u001b[39m*\u001b[39m{axis_name: new_axis})\n\u001b[0;32m   4188\u001b[0m \u001b[39m# Case for non-unique axis\u001b[39;00m\n\u001b[0;32m   4189\u001b[0m \u001b[39melse\u001b[39;00m:\n",
      "File \u001b[1;32mc:\\Users\\rosam\\miniconda3\\envs\\dz3\\lib\\site-packages\\pandas\\core\\indexes\\base.py:6017\u001b[0m, in \u001b[0;36mIndex.drop\u001b[1;34m(self, labels, errors)\u001b[0m\n\u001b[0;32m   6015\u001b[0m \u001b[39mif\u001b[39;00m mask\u001b[39m.\u001b[39many():\n\u001b[0;32m   6016\u001b[0m     \u001b[39mif\u001b[39;00m errors \u001b[39m!=\u001b[39m \u001b[39m\"\u001b[39m\u001b[39mignore\u001b[39m\u001b[39m\"\u001b[39m:\n\u001b[1;32m-> 6017\u001b[0m         \u001b[39mraise\u001b[39;00m \u001b[39mKeyError\u001b[39;00m(\u001b[39mf\u001b[39m\u001b[39m\"\u001b[39m\u001b[39m{\u001b[39;00mlabels[mask]\u001b[39m}\u001b[39;00m\u001b[39m not found in axis\u001b[39m\u001b[39m\"\u001b[39m)\n\u001b[0;32m   6018\u001b[0m     indexer \u001b[39m=\u001b[39m indexer[\u001b[39m~\u001b[39mmask]\n\u001b[0;32m   6019\u001b[0m \u001b[39mreturn\u001b[39;00m \u001b[39mself\u001b[39m\u001b[39m.\u001b[39mdelete(indexer)\n",
      "\u001b[1;31mKeyError\u001b[0m: \"['CASCABAMBA'] not found in axis\""
     ]
    }
   ],
   "source": [
    "dec_data = Decadiarias(ds.pp, ds.this_month, ds.file, ds.dec_file)"
   ]
  },
  {
   "cell_type": "code",
   "execution_count": 11,
   "metadata": {},
   "outputs": [],
   "source": [
    "df = ds.pp[ds.pp.index.month == ds.this_month]\n",
    "df.insert(0, \"Decadiaria\", np.nan)\n",
    "\n",
    "df.loc[df.index.day <= 10, \"Decadiaria\"] = 1\n",
    "df.loc[(df.index.day > 10) & (df.index.day <= 20), \"Decadiaria\"] = 2\n",
    "df.loc[df.index.day > 20, \"Decadiaria\"] = 3\n",
    "\n",
    "sum_df = df.groupby(pd.Grouper(\"Decadiaria\")).sum()"
   ]
  },
  {
   "cell_type": "code",
   "execution_count": 20,
   "metadata": {},
   "outputs": [],
   "source": [
    "dc = dec_data.dc[dec_data.dc[\"MES\"] == ds.this_month]"
   ]
  },
  {
   "cell_type": "code",
   "execution_count": null,
   "metadata": {},
   "outputs": [],
   "source": [
    "columns_to_drop = []\n",
    "for i in dc.columns[2:]:\n",
    "    if (dc[i] == 0).any():\n",
    "        columns_to_drop.append(i)\n",
    "\n",
    "dc.drop(columns=columns_to_drop, inplace=True)\n",
    "sum_df.drop(columns=columns_to_drop, inplace=True)"
   ]
  },
  {
   "cell_type": "code",
   "execution_count": 25,
   "metadata": {},
   "outputs": [],
   "source": [
    "ee = sum_df.columns\n",
    "idd = sum_df.columns.isin(dc.columns)\n",
    "sum_df_f = sum_df[ee[idd]]  # filtro de estaciones con decadiarias\n",
    "dc_f = dc[ee[idd]]  # filtro en archivo de decadiarias"
   ]
  },
  {
   "cell_type": "code",
   "execution_count": 32,
   "metadata": {},
   "outputs": [],
   "source": [
    "shape = dc_f.shape\n",
    "new_array = np.zeros(shape)\n",
    "new_array[:sum_df_f.shape[0], :] = sum_df_f"
   ]
  },
  {
   "cell_type": "code",
   "execution_count": 42,
   "metadata": {},
   "outputs": [],
   "source": [
    "dec = (((new_array / dc_f) - 1) * 100).round(1)"
   ]
  },
  {
   "cell_type": "code",
   "execution_count": 46,
   "metadata": {},
   "outputs": [],
   "source": [
    "idx = [\"1ra-Dec\", \"2da-Dec\", \"3ra-Dec\"]\n",
    "dec_df = dec.T.copy()\n",
    "dec_df.columns = idx"
   ]
  },
  {
   "cell_type": "code",
   "execution_count": 62,
   "metadata": {},
   "outputs": [],
   "source": [
    "val = [-100, -60, -30, -15, 15, 30, 60, 100, 200, 400, 800, np.inf]\n",
    "cols = [\n",
    "    \"#c2523c\",\n",
    "    \"#e99519\",\n",
    "    \"#fbea06\",\n",
    "    \"#ffffff\",\n",
    "    \"#b8f501\",\n",
    "    \"#40e300\",\n",
    "    \"#1ab04d\",\n",
    "    \"#19875a\",\n",
    "    \"#089ead\",\n",
    "    \"#2b61a9\",\n",
    "    \"#0b2c7b\",\n",
    "]\n",
    "\n",
    "def assign_color(value):\n",
    "    if value == -100:\n",
    "        return \"#c2523c\"\n",
    "    else:\n",
    "        return pd.cut([value], bins=val, labels=cols)[0]\n",
    "\n",
    "# Aplicar la función a las columnas correspondientes\n",
    "dec_df.loc[:, \"C1\"] = dec_df.loc[:, \"1ra-Dec\"].apply(assign_color)\n",
    "dec_df.loc[:, \"C2\"] = dec_df.loc[:, \"2da-Dec\"].apply(assign_color)\n",
    "dec_df.loc[:, \"C3\"] = dec_df.loc[:, \"3ra-Dec\"].apply(assign_color)"
   ]
  },
  {
   "cell_type": "code",
   "execution_count": 64,
   "metadata": {},
   "outputs": [],
   "source": [
    "from scripts.calculations import Utils"
   ]
  },
  {
   "cell_type": "code",
   "execution_count": null,
   "metadata": {},
   "outputs": [],
   "source": [
    "dec_df = Utils(dec_df, ds.file).add_lat_lon()"
   ]
  },
  {
   "cell_type": "code",
   "execution_count": 69,
   "metadata": {},
   "outputs": [],
   "source": [
    "dec = dec.rename_axis(\"Estaciones\").reset_index()"
   ]
  },
  {
   "cell_type": "code",
   "execution_count": 70,
   "metadata": {},
   "outputs": [
    {
     "data": {
      "text/html": [
       "<div>\n",
       "<style scoped>\n",
       "    .dataframe tbody tr th:only-of-type {\n",
       "        vertical-align: middle;\n",
       "    }\n",
       "\n",
       "    .dataframe tbody tr th {\n",
       "        vertical-align: top;\n",
       "    }\n",
       "\n",
       "    .dataframe thead th {\n",
       "        text-align: right;\n",
       "    }\n",
       "</style>\n",
       "<table border=\"1\" class=\"dataframe\">\n",
       "  <thead>\n",
       "    <tr style=\"text-align: right;\">\n",
       "      <th></th>\n",
       "      <th>Estaciones</th>\n",
       "      <th>Lat</th>\n",
       "      <th>Lon</th>\n",
       "      <th>1ra-Dec</th>\n",
       "      <th>2da-Dec</th>\n",
       "      <th>3ra-Dec</th>\n",
       "      <th>C1</th>\n",
       "      <th>C2</th>\n",
       "      <th>C3</th>\n",
       "    </tr>\n",
       "  </thead>\n",
       "  <tbody>\n",
       "    <tr>\n",
       "      <th>0</th>\n",
       "      <td>CAJABAMBA</td>\n",
       "      <td>-7.62166</td>\n",
       "      <td>-78.05131</td>\n",
       "      <td>-100.0</td>\n",
       "      <td>-100.0</td>\n",
       "      <td>-100.0</td>\n",
       "      <td>#c2523c</td>\n",
       "      <td>#c2523c</td>\n",
       "      <td>#c2523c</td>\n",
       "    </tr>\n",
       "    <tr>\n",
       "      <th>1</th>\n",
       "      <td>ASUNCION</td>\n",
       "      <td>-7.32604</td>\n",
       "      <td>-78.51582</td>\n",
       "      <td>-100.0</td>\n",
       "      <td>-100.0</td>\n",
       "      <td>-100.0</td>\n",
       "      <td>#c2523c</td>\n",
       "      <td>#c2523c</td>\n",
       "      <td>#c2523c</td>\n",
       "    </tr>\n",
       "    <tr>\n",
       "      <th>2</th>\n",
       "      <td>GRANJA PORCON</td>\n",
       "      <td>-7.03753</td>\n",
       "      <td>-78.63340</td>\n",
       "      <td>-37.0</td>\n",
       "      <td>-90.3</td>\n",
       "      <td>-100.0</td>\n",
       "      <td>#e99519</td>\n",
       "      <td>#c2523c</td>\n",
       "      <td>#c2523c</td>\n",
       "    </tr>\n",
       "    <tr>\n",
       "      <th>3</th>\n",
       "      <td>AUGUSTO WEBERBAUER</td>\n",
       "      <td>-7.16750</td>\n",
       "      <td>-78.49309</td>\n",
       "      <td>-99.7</td>\n",
       "      <td>-99.7</td>\n",
       "      <td>-100.0</td>\n",
       "      <td>#c2523c</td>\n",
       "      <td>#c2523c</td>\n",
       "      <td>#c2523c</td>\n",
       "    </tr>\n",
       "    <tr>\n",
       "      <th>4</th>\n",
       "      <td>COSPAN</td>\n",
       "      <td>-7.42857</td>\n",
       "      <td>-78.54106</td>\n",
       "      <td>-100.0</td>\n",
       "      <td>-100.0</td>\n",
       "      <td>-100.0</td>\n",
       "      <td>#c2523c</td>\n",
       "      <td>#c2523c</td>\n",
       "      <td>#c2523c</td>\n",
       "    </tr>\n",
       "    <tr>\n",
       "      <th>5</th>\n",
       "      <td>LA ENCAÑADA</td>\n",
       "      <td>-7.12327</td>\n",
       "      <td>-78.33314</td>\n",
       "      <td>-100.0</td>\n",
       "      <td>-100.0</td>\n",
       "      <td>-100.0</td>\n",
       "      <td>#c2523c</td>\n",
       "      <td>#c2523c</td>\n",
       "      <td>#c2523c</td>\n",
       "    </tr>\n",
       "    <tr>\n",
       "      <th>6</th>\n",
       "      <td>JESUS</td>\n",
       "      <td>-7.24570</td>\n",
       "      <td>-78.38841</td>\n",
       "      <td>-100.0</td>\n",
       "      <td>-100.0</td>\n",
       "      <td>-100.0</td>\n",
       "      <td>#c2523c</td>\n",
       "      <td>#c2523c</td>\n",
       "      <td>#c2523c</td>\n",
       "    </tr>\n",
       "    <tr>\n",
       "      <th>7</th>\n",
       "      <td>MAGDALENA</td>\n",
       "      <td>-7.25346</td>\n",
       "      <td>-78.65261</td>\n",
       "      <td>-25.0</td>\n",
       "      <td>-100.0</td>\n",
       "      <td>-100.0</td>\n",
       "      <td>#fbea06</td>\n",
       "      <td>#c2523c</td>\n",
       "      <td>#c2523c</td>\n",
       "    </tr>\n",
       "    <tr>\n",
       "      <th>8</th>\n",
       "      <td>NAMORA</td>\n",
       "      <td>-7.20060</td>\n",
       "      <td>-78.32782</td>\n",
       "      <td>-100.0</td>\n",
       "      <td>-63.2</td>\n",
       "      <td>-100.0</td>\n",
       "      <td>#c2523c</td>\n",
       "      <td>#c2523c</td>\n",
       "      <td>#c2523c</td>\n",
       "    </tr>\n",
       "    <tr>\n",
       "      <th>9</th>\n",
       "      <td>SAN JUAN</td>\n",
       "      <td>-7.29756</td>\n",
       "      <td>-78.49106</td>\n",
       "      <td>-100.0</td>\n",
       "      <td>-100.0</td>\n",
       "      <td>-100.0</td>\n",
       "      <td>#c2523c</td>\n",
       "      <td>#c2523c</td>\n",
       "      <td>#c2523c</td>\n",
       "    </tr>\n",
       "    <tr>\n",
       "      <th>10</th>\n",
       "      <td>CELENDIN</td>\n",
       "      <td>-6.85292</td>\n",
       "      <td>-78.14485</td>\n",
       "      <td>73.8</td>\n",
       "      <td>-100.0</td>\n",
       "      <td>-100.0</td>\n",
       "      <td>#1ab04d</td>\n",
       "      <td>#c2523c</td>\n",
       "      <td>#c2523c</td>\n",
       "    </tr>\n",
       "    <tr>\n",
       "      <th>11</th>\n",
       "      <td>CONTUMAZA</td>\n",
       "      <td>-7.36521</td>\n",
       "      <td>-78.82273</td>\n",
       "      <td>-100.0</td>\n",
       "      <td>-100.0</td>\n",
       "      <td>-100.0</td>\n",
       "      <td>#c2523c</td>\n",
       "      <td>#c2523c</td>\n",
       "      <td>#c2523c</td>\n",
       "    </tr>\n",
       "    <tr>\n",
       "      <th>12</th>\n",
       "      <td>SAN BENITO</td>\n",
       "      <td>-7.42819</td>\n",
       "      <td>-78.92673</td>\n",
       "      <td>-100.0</td>\n",
       "      <td>-100.0</td>\n",
       "      <td>-100.0</td>\n",
       "      <td>#c2523c</td>\n",
       "      <td>#c2523c</td>\n",
       "      <td>#c2523c</td>\n",
       "    </tr>\n",
       "    <tr>\n",
       "      <th>13</th>\n",
       "      <td>SONDOR-MATARA</td>\n",
       "      <td>-7.23687</td>\n",
       "      <td>-78.21262</td>\n",
       "      <td>-100.0</td>\n",
       "      <td>-100.0</td>\n",
       "      <td>-100.0</td>\n",
       "      <td>#c2523c</td>\n",
       "      <td>#c2523c</td>\n",
       "      <td>#c2523c</td>\n",
       "    </tr>\n",
       "    <tr>\n",
       "      <th>14</th>\n",
       "      <td>SAN MARCOS</td>\n",
       "      <td>-7.32249</td>\n",
       "      <td>-78.17270</td>\n",
       "      <td>-100.0</td>\n",
       "      <td>-100.0</td>\n",
       "      <td>-100.0</td>\n",
       "      <td>#c2523c</td>\n",
       "      <td>#c2523c</td>\n",
       "      <td>#c2523c</td>\n",
       "    </tr>\n",
       "    <tr>\n",
       "      <th>15</th>\n",
       "      <td>QUILCATE</td>\n",
       "      <td>-6.82275</td>\n",
       "      <td>-78.74400</td>\n",
       "      <td>-44.6</td>\n",
       "      <td>-100.0</td>\n",
       "      <td>-100.0</td>\n",
       "      <td>#e99519</td>\n",
       "      <td>#c2523c</td>\n",
       "      <td>#c2523c</td>\n",
       "    </tr>\n",
       "    <tr>\n",
       "      <th>16</th>\n",
       "      <td>LLAPA</td>\n",
       "      <td>-6.97833</td>\n",
       "      <td>-78.81119</td>\n",
       "      <td>-79.3</td>\n",
       "      <td>-95.2</td>\n",
       "      <td>-100.0</td>\n",
       "      <td>#c2523c</td>\n",
       "      <td>#c2523c</td>\n",
       "      <td>#c2523c</td>\n",
       "    </tr>\n",
       "    <tr>\n",
       "      <th>17</th>\n",
       "      <td>SAN MIGUEL</td>\n",
       "      <td>-6.99684</td>\n",
       "      <td>-78.85308</td>\n",
       "      <td>-95.7</td>\n",
       "      <td>-100.0</td>\n",
       "      <td>-100.0</td>\n",
       "      <td>#c2523c</td>\n",
       "      <td>#c2523c</td>\n",
       "      <td>#c2523c</td>\n",
       "    </tr>\n",
       "    <tr>\n",
       "      <th>18</th>\n",
       "      <td>SAN PABLO</td>\n",
       "      <td>-7.11775</td>\n",
       "      <td>-78.83083</td>\n",
       "      <td>-100.0</td>\n",
       "      <td>-100.0</td>\n",
       "      <td>-100.0</td>\n",
       "      <td>#c2523c</td>\n",
       "      <td>#c2523c</td>\n",
       "      <td>#c2523c</td>\n",
       "    </tr>\n",
       "  </tbody>\n",
       "</table>\n",
       "</div>"
      ],
      "text/plain": [
       "            Estaciones      Lat       Lon  1ra-Dec  2da-Dec  3ra-Dec       C1  \\\n",
       "0            CAJABAMBA -7.62166 -78.05131   -100.0   -100.0   -100.0  #c2523c   \n",
       "1             ASUNCION -7.32604 -78.51582   -100.0   -100.0   -100.0  #c2523c   \n",
       "2        GRANJA PORCON -7.03753 -78.63340    -37.0    -90.3   -100.0  #e99519   \n",
       "3   AUGUSTO WEBERBAUER -7.16750 -78.49309    -99.7    -99.7   -100.0  #c2523c   \n",
       "4               COSPAN -7.42857 -78.54106   -100.0   -100.0   -100.0  #c2523c   \n",
       "5          LA ENCAÑADA -7.12327 -78.33314   -100.0   -100.0   -100.0  #c2523c   \n",
       "6                JESUS -7.24570 -78.38841   -100.0   -100.0   -100.0  #c2523c   \n",
       "7            MAGDALENA -7.25346 -78.65261    -25.0   -100.0   -100.0  #fbea06   \n",
       "8               NAMORA -7.20060 -78.32782   -100.0    -63.2   -100.0  #c2523c   \n",
       "9             SAN JUAN -7.29756 -78.49106   -100.0   -100.0   -100.0  #c2523c   \n",
       "10            CELENDIN -6.85292 -78.14485     73.8   -100.0   -100.0  #1ab04d   \n",
       "11           CONTUMAZA -7.36521 -78.82273   -100.0   -100.0   -100.0  #c2523c   \n",
       "12          SAN BENITO -7.42819 -78.92673   -100.0   -100.0   -100.0  #c2523c   \n",
       "13       SONDOR-MATARA -7.23687 -78.21262   -100.0   -100.0   -100.0  #c2523c   \n",
       "14          SAN MARCOS -7.32249 -78.17270   -100.0   -100.0   -100.0  #c2523c   \n",
       "15            QUILCATE -6.82275 -78.74400    -44.6   -100.0   -100.0  #e99519   \n",
       "16               LLAPA -6.97833 -78.81119    -79.3    -95.2   -100.0  #c2523c   \n",
       "17          SAN MIGUEL -6.99684 -78.85308    -95.7   -100.0   -100.0  #c2523c   \n",
       "18           SAN PABLO -7.11775 -78.83083   -100.0   -100.0   -100.0  #c2523c   \n",
       "\n",
       "         C2       C3  \n",
       "0   #c2523c  #c2523c  \n",
       "1   #c2523c  #c2523c  \n",
       "2   #c2523c  #c2523c  \n",
       "3   #c2523c  #c2523c  \n",
       "4   #c2523c  #c2523c  \n",
       "5   #c2523c  #c2523c  \n",
       "6   #c2523c  #c2523c  \n",
       "7   #c2523c  #c2523c  \n",
       "8   #c2523c  #c2523c  \n",
       "9   #c2523c  #c2523c  \n",
       "10  #c2523c  #c2523c  \n",
       "11  #c2523c  #c2523c  \n",
       "12  #c2523c  #c2523c  \n",
       "13  #c2523c  #c2523c  \n",
       "14  #c2523c  #c2523c  \n",
       "15  #c2523c  #c2523c  \n",
       "16  #c2523c  #c2523c  \n",
       "17  #c2523c  #c2523c  \n",
       "18  #c2523c  #c2523c  "
      ]
     },
     "execution_count": 70,
     "metadata": {},
     "output_type": "execute_result"
    }
   ],
   "source": [
    "dec"
   ]
  },
  {
   "cell_type": "code",
   "execution_count": 4,
   "metadata": {},
   "outputs": [],
   "source": [
    "import pandas as pd\n",
    "from scripts.calculations import Utils"
   ]
  },
  {
   "cell_type": "code",
   "execution_count": 2,
   "metadata": {},
   "outputs": [],
   "source": [
    "last_data = {\n",
    "    \"ESTACIONES\": ds.mn.columns,\n",
    "    \"TMIN\": ds.mn[(ds.mn.index.day == ds.day) & (ds.mn.index.month == ds.this_month)].values[-1].tolist(),\n",
    "    \"TMAX\": ds.mx[(ds.mx.index.day == ds.yday) & (ds.mx.index.month == ds.this_month)].values[-1].tolist(),\n",
    "    \"PP\": ds.pp[(ds.pp.index.day == ds.yday) & (ds.pp.index.month == ds.this_month)].values[-1].tolist(),\n",
    "}"
   ]
  },
  {
   "cell_type": "code",
   "execution_count": 5,
   "metadata": {},
   "outputs": [],
   "source": [
    "last_data_df = pd.DataFrame(last_data)\n",
    "last_data_df.set_index(\"ESTACIONES\", inplace=True)\n",
    "last_data_df = Utils(last_data_df, ds.file).add_lat_lon()\n"
   ]
  },
  {
   "cell_type": "code",
   "execution_count": 6,
   "metadata": {},
   "outputs": [
    {
     "data": {
      "text/html": [
       "<div>\n",
       "<style scoped>\n",
       "    .dataframe tbody tr th:only-of-type {\n",
       "        vertical-align: middle;\n",
       "    }\n",
       "\n",
       "    .dataframe tbody tr th {\n",
       "        vertical-align: top;\n",
       "    }\n",
       "\n",
       "    .dataframe thead th {\n",
       "        text-align: right;\n",
       "    }\n",
       "</style>\n",
       "<table border=\"1\" class=\"dataframe\">\n",
       "  <thead>\n",
       "    <tr style=\"text-align: right;\">\n",
       "      <th></th>\n",
       "      <th>Lat</th>\n",
       "      <th>Lon</th>\n",
       "      <th>TMIN</th>\n",
       "      <th>TMAX</th>\n",
       "      <th>PP</th>\n",
       "    </tr>\n",
       "    <tr>\n",
       "      <th>ESTACIONES</th>\n",
       "      <th></th>\n",
       "      <th></th>\n",
       "      <th></th>\n",
       "      <th></th>\n",
       "      <th></th>\n",
       "    </tr>\n",
       "  </thead>\n",
       "  <tbody>\n",
       "    <tr>\n",
       "      <th>CACHACHI</th>\n",
       "      <td>-7.45106</td>\n",
       "      <td>-78.26855</td>\n",
       "      <td>6.2</td>\n",
       "      <td>17.2</td>\n",
       "      <td>0.0</td>\n",
       "    </tr>\n",
       "    <tr>\n",
       "      <th>CAJABAMBA</th>\n",
       "      <td>-7.62166</td>\n",
       "      <td>-78.05131</td>\n",
       "      <td>8.9</td>\n",
       "      <td>22.7</td>\n",
       "      <td>0.0</td>\n",
       "    </tr>\n",
       "    <tr>\n",
       "      <th>ASUNCION</th>\n",
       "      <td>-7.32604</td>\n",
       "      <td>-78.51582</td>\n",
       "      <td>12.8</td>\n",
       "      <td>23.6</td>\n",
       "      <td>0.0</td>\n",
       "    </tr>\n",
       "    <tr>\n",
       "      <th>GRANJA PORCON</th>\n",
       "      <td>-7.03753</td>\n",
       "      <td>-78.63340</td>\n",
       "      <td>2.3</td>\n",
       "      <td>18.7</td>\n",
       "      <td>0.0</td>\n",
       "    </tr>\n",
       "    <tr>\n",
       "      <th>AUGUSTO WEBERBAUER</th>\n",
       "      <td>-7.16750</td>\n",
       "      <td>-78.49309</td>\n",
       "      <td>5.8</td>\n",
       "      <td>22.2</td>\n",
       "      <td>0.0</td>\n",
       "    </tr>\n",
       "    <tr>\n",
       "      <th>COSPAN</th>\n",
       "      <td>-7.42857</td>\n",
       "      <td>-78.54106</td>\n",
       "      <td>NaN</td>\n",
       "      <td>NaN</td>\n",
       "      <td>NaN</td>\n",
       "    </tr>\n",
       "    <tr>\n",
       "      <th>LA ENCAÑADA</th>\n",
       "      <td>-7.12327</td>\n",
       "      <td>-78.33314</td>\n",
       "      <td>2.3</td>\n",
       "      <td>19.6</td>\n",
       "      <td>0.0</td>\n",
       "    </tr>\n",
       "    <tr>\n",
       "      <th>JESUS</th>\n",
       "      <td>-7.24570</td>\n",
       "      <td>-78.38841</td>\n",
       "      <td>6.8</td>\n",
       "      <td>28.2</td>\n",
       "      <td>0.0</td>\n",
       "    </tr>\n",
       "    <tr>\n",
       "      <th>MAGDALENA</th>\n",
       "      <td>-7.25346</td>\n",
       "      <td>-78.65261</td>\n",
       "      <td>17.0</td>\n",
       "      <td>29.0</td>\n",
       "      <td>0.0</td>\n",
       "    </tr>\n",
       "    <tr>\n",
       "      <th>NAMORA</th>\n",
       "      <td>-7.20060</td>\n",
       "      <td>-78.32782</td>\n",
       "      <td>4.6</td>\n",
       "      <td>22.3</td>\n",
       "      <td>0.0</td>\n",
       "    </tr>\n",
       "    <tr>\n",
       "      <th>SAN JUAN</th>\n",
       "      <td>-7.29756</td>\n",
       "      <td>-78.49106</td>\n",
       "      <td>12.0</td>\n",
       "      <td>25.4</td>\n",
       "      <td>0.0</td>\n",
       "    </tr>\n",
       "    <tr>\n",
       "      <th>CELENDIN</th>\n",
       "      <td>-6.85292</td>\n",
       "      <td>-78.14485</td>\n",
       "      <td>8.0</td>\n",
       "      <td>20.0</td>\n",
       "      <td>0.0</td>\n",
       "    </tr>\n",
       "    <tr>\n",
       "      <th>CONTUMAZA</th>\n",
       "      <td>-7.36521</td>\n",
       "      <td>-78.82273</td>\n",
       "      <td>7.8</td>\n",
       "      <td>21.6</td>\n",
       "      <td>0.0</td>\n",
       "    </tr>\n",
       "    <tr>\n",
       "      <th>SAN BENITO</th>\n",
       "      <td>-7.42819</td>\n",
       "      <td>-78.92673</td>\n",
       "      <td>15.8</td>\n",
       "      <td>25.6</td>\n",
       "      <td>0.0</td>\n",
       "    </tr>\n",
       "    <tr>\n",
       "      <th>MONTE GRANDE</th>\n",
       "      <td>-7.22499</td>\n",
       "      <td>-79.15323</td>\n",
       "      <td>12.8</td>\n",
       "      <td>30.0</td>\n",
       "      <td>0.0</td>\n",
       "    </tr>\n",
       "    <tr>\n",
       "      <th>CHUGUR</th>\n",
       "      <td>-6.66667</td>\n",
       "      <td>-78.73333</td>\n",
       "      <td>NaN</td>\n",
       "      <td>NaN</td>\n",
       "      <td>0.0</td>\n",
       "    </tr>\n",
       "    <tr>\n",
       "      <th>SONDOR-MATARA</th>\n",
       "      <td>-7.23687</td>\n",
       "      <td>-78.21262</td>\n",
       "      <td>7.5</td>\n",
       "      <td>21.2</td>\n",
       "      <td>0.0</td>\n",
       "    </tr>\n",
       "    <tr>\n",
       "      <th>SAN MARCOS</th>\n",
       "      <td>-7.32249</td>\n",
       "      <td>-78.17270</td>\n",
       "      <td>7.0</td>\n",
       "      <td>25.6</td>\n",
       "      <td>0.0</td>\n",
       "    </tr>\n",
       "    <tr>\n",
       "      <th>QUILCATE</th>\n",
       "      <td>-6.82275</td>\n",
       "      <td>-78.74400</td>\n",
       "      <td>4.6</td>\n",
       "      <td>17.6</td>\n",
       "      <td>0.0</td>\n",
       "    </tr>\n",
       "    <tr>\n",
       "      <th>LLAPA</th>\n",
       "      <td>-6.97833</td>\n",
       "      <td>-78.81119</td>\n",
       "      <td>5.6</td>\n",
       "      <td>19.6</td>\n",
       "      <td>0.0</td>\n",
       "    </tr>\n",
       "    <tr>\n",
       "      <th>SAN MIGUEL</th>\n",
       "      <td>-6.99684</td>\n",
       "      <td>-78.85308</td>\n",
       "      <td>9.6</td>\n",
       "      <td>20.0</td>\n",
       "      <td>0.0</td>\n",
       "    </tr>\n",
       "    <tr>\n",
       "      <th>LIVES</th>\n",
       "      <td>-7.08020</td>\n",
       "      <td>-79.04045</td>\n",
       "      <td>NaN</td>\n",
       "      <td>NaN</td>\n",
       "      <td>0.0</td>\n",
       "    </tr>\n",
       "    <tr>\n",
       "      <th>SAN PABLO</th>\n",
       "      <td>-7.11775</td>\n",
       "      <td>-78.83083</td>\n",
       "      <td>12.4</td>\n",
       "      <td>21.6</td>\n",
       "      <td>0.0</td>\n",
       "    </tr>\n",
       "  </tbody>\n",
       "</table>\n",
       "</div>"
      ],
      "text/plain": [
       "                        Lat       Lon  TMIN  TMAX   PP\n",
       "ESTACIONES                                            \n",
       "CACHACHI           -7.45106 -78.26855   6.2  17.2  0.0\n",
       "CAJABAMBA          -7.62166 -78.05131   8.9  22.7  0.0\n",
       "ASUNCION           -7.32604 -78.51582  12.8  23.6  0.0\n",
       "GRANJA PORCON      -7.03753 -78.63340   2.3  18.7  0.0\n",
       "AUGUSTO WEBERBAUER -7.16750 -78.49309   5.8  22.2  0.0\n",
       "COSPAN             -7.42857 -78.54106   NaN   NaN  NaN\n",
       "LA ENCAÑADA        -7.12327 -78.33314   2.3  19.6  0.0\n",
       "JESUS              -7.24570 -78.38841   6.8  28.2  0.0\n",
       "MAGDALENA          -7.25346 -78.65261  17.0  29.0  0.0\n",
       "NAMORA             -7.20060 -78.32782   4.6  22.3  0.0\n",
       "SAN JUAN           -7.29756 -78.49106  12.0  25.4  0.0\n",
       "CELENDIN           -6.85292 -78.14485   8.0  20.0  0.0\n",
       "CONTUMAZA          -7.36521 -78.82273   7.8  21.6  0.0\n",
       "SAN BENITO         -7.42819 -78.92673  15.8  25.6  0.0\n",
       "MONTE GRANDE       -7.22499 -79.15323  12.8  30.0  0.0\n",
       "CHUGUR             -6.66667 -78.73333   NaN   NaN  0.0\n",
       "SONDOR-MATARA      -7.23687 -78.21262   7.5  21.2  0.0\n",
       "SAN MARCOS         -7.32249 -78.17270   7.0  25.6  0.0\n",
       "QUILCATE           -6.82275 -78.74400   4.6  17.6  0.0\n",
       "LLAPA              -6.97833 -78.81119   5.6  19.6  0.0\n",
       "SAN MIGUEL         -6.99684 -78.85308   9.6  20.0  0.0\n",
       "LIVES              -7.08020 -79.04045   NaN   NaN  0.0\n",
       "SAN PABLO          -7.11775 -78.83083  12.4  21.6  0.0"
      ]
     },
     "execution_count": 6,
     "metadata": {},
     "output_type": "execute_result"
    }
   ],
   "source": [
    "ds.last_data_df"
   ]
  },
  {
   "cell_type": "code",
   "execution_count": 14,
   "metadata": {},
   "outputs": [],
   "source": [
    "import plotly.graph_objects as go\n",
    "import plotly.express as px"
   ]
  },
  {
   "attachments": {},
   "cell_type": "markdown",
   "metadata": {},
   "source": [
    "Meteorograma"
   ]
  },
  {
   "cell_type": "code",
   "execution_count": 10,
   "metadata": {},
   "outputs": [],
   "source": [
    "df = ds.last_data_df.reset_index()"
   ]
  },
  {
   "cell_type": "code",
   "execution_count": 15,
   "metadata": {},
   "outputs": [],
   "source": [
    "tmx = go.Scatter(\n",
    "            x=df[\"ESTACIONES\"],\n",
    "            y=df[\"TMAX\"],\n",
    "            name=\"Tmax de ayer (°C)\",\n",
    "            mode=\"markers+text\",\n",
    "            marker_symbol=\"triangle-up\",\n",
    "            marker_size=10,\n",
    "            yaxis=\"y2\",\n",
    "            line={\"color\": \"Red\"},\n",
    "            text=df[\"TMAX\"].astype(str).tolist(),\n",
    "            textposition=\"top center\",\n",
    "            textfont={\"size\": 14, \"color\": \"crimson\"},\n",
    "        )\n",
    "tmn = go.Scatter(\n",
    "    x=df[\"ESTACIONES\"],\n",
    "    y=df[\"TMIN\"],\n",
    "    name=\"Tmin de hoy (°C)\",\n",
    "    yaxis=\"y2\",\n",
    "    line={\"color\": \"Blue\"},\n",
    "    mode=\"markers+text\",\n",
    "    marker_symbol=\"square\",\n",
    "    marker_size=8,\n",
    "    text=df[\"TMIN\"].astype(str).tolist(),\n",
    "    textposition=\"top center\",\n",
    "    textfont={\"size\": 14, \"color\": \"blue\"},\n",
    ")\n",
    "ppp = go.Bar(\n",
    "    x=df[\"ESTACIONES\"],\n",
    "    y=df[\"PP\"],\n",
    "    name=\"PP de ayer (mm/día)\",\n",
    "    marker_color=\"yellowgreen\",\n",
    "    opacity=0.6,\n",
    "    text=df[\"PP\"].astype(str).tolist(),\n",
    "    textposition=\"auto\",\n",
    "    textfont={\"size\": 14, \"color\": \"darkgreen\"},\n",
    ")\n",
    "layout = go.Layout(\n",
    "    xaxis={\n",
    "        \"title_font\": {\"color\": \"rgba(100,143,240,255)\"},\n",
    "        \"domain\": [0, 0.94],\n",
    "        \"linewidth\": 0.5,\n",
    "        \"linecolor\": \"rgba(196,198,206,255)\",\n",
    "        \"showline\": True,\n",
    "        \"showgrid\": True,\n",
    "        \"gridwidth\": 1,\n",
    "        \"gridcolor\": \"#e3e2e1\",\n",
    "    },\n",
    "    yaxis={\n",
    "        \"title\": \"Precipitacion (mm/día)\",\n",
    "        \"title_font\": {\"color\": \"rgba(100,143,240,255)\"},\n",
    "        \"tickfont\": {\"color\": \"rgba(100,143,240,255)\"},\n",
    "        \"domain\": [0, 0.94],\n",
    "        \"side\": \"right\",\n",
    "        \"showgrid\": False,\n",
    "        \"gridwidth\": 0.5,\n",
    "        \"gridcolor\": \"#e3e2e1\",\n",
    "    },\n",
    "    yaxis2={\n",
    "        \"title\": \"Temperatura (°C)\",\n",
    "        \"title_font\": {\"color\": \"rgba(100,143,240,255)\"},\n",
    "        \"tickfont\": {\"color\": \"rgba(100,143,240,255)\"},\n",
    "        \"anchor\": \"x\",\n",
    "        \"overlaying\": \"y\",\n",
    "        \"side\": \"left\",\n",
    "        \"showgrid\": True,\n",
    "        \"gridwidth\": 0.5,\n",
    "        \"gridcolor\": \"#e3e2e1\",\n",
    "        \"dtick\": 3,\n",
    "    },\n",
    "    margin={\"l\": 50, \"r\": 50, \"b\": 20, \"t\": 40, \"pad\": 4},\n",
    "    plot_bgcolor=\"rgb(255, 255, 255)\",\n",
    "    paper_bgcolor=\"rgb(255, 255, 255)\",\n",
    "    showlegend=True,\n",
    "    legend={\n",
    "        \"y\": 1.1,\n",
    "        \"x\": 0.3,\n",
    "        \"yanchor\": \"top\",\n",
    "        \"bordercolor\": \"rgba(244,244,244,255)\",\n",
    "        \"borderwidth\": 1,\n",
    "        \"orientation\": \"h\",\n",
    "    },\n",
    "    xaxis_tickangle=-45,\n",
    "    height=600,\n",
    ")\n",
    "last_data_fig = go.Figure(data=[tmx, tmn, ppp], layout=layout)"
   ]
  },
  {
   "cell_type": "code",
   "execution_count": 16,
   "metadata": {},
   "outputs": [
    {
     "data": {
      "application/vnd.plotly.v1+json": {
       "config": {
        "plotlyServerURL": "https://plot.ly"
       },
       "data": [
        {
         "line": {
          "color": "Red"
         },
         "marker": {
          "size": 10,
          "symbol": "triangle-up"
         },
         "mode": "markers+text",
         "name": "Tmax de ayer (°C)",
         "text": [
          "17.2",
          "22.7",
          "23.6",
          "18.7",
          "22.2",
          "nan",
          "19.6",
          "28.2",
          "29.0",
          "22.3",
          "25.4",
          "20.0",
          "21.6",
          "25.6",
          "30.0",
          "nan",
          "21.2",
          "25.6",
          "17.6",
          "19.6",
          "20.0",
          "nan",
          "21.6"
         ],
         "textfont": {
          "color": "crimson",
          "size": 14
         },
         "textposition": "top center",
         "type": "scatter",
         "x": [
          "CACHACHI",
          "CAJABAMBA",
          "ASUNCION",
          "GRANJA PORCON",
          "AUGUSTO WEBERBAUER",
          "COSPAN",
          "LA ENCAÑADA",
          "JESUS",
          "MAGDALENA",
          "NAMORA",
          "SAN JUAN",
          "CELENDIN",
          "CONTUMAZA",
          "SAN BENITO",
          "MONTE GRANDE",
          "CHUGUR",
          "SONDOR-MATARA",
          "SAN MARCOS",
          "QUILCATE",
          "LLAPA",
          "SAN MIGUEL",
          "LIVES",
          "SAN PABLO"
         ],
         "y": [
          17.2,
          22.7,
          23.6,
          18.7,
          22.2,
          null,
          19.6,
          28.2,
          29,
          22.3,
          25.4,
          20,
          21.6,
          25.6,
          30,
          null,
          21.2,
          25.6,
          17.6,
          19.6,
          20,
          null,
          21.6
         ],
         "yaxis": "y2"
        },
        {
         "line": {
          "color": "Blue"
         },
         "marker": {
          "size": 8,
          "symbol": "square"
         },
         "mode": "markers+text",
         "name": "Tmin de hoy (°C)",
         "text": [
          "6.2",
          "8.9",
          "12.8",
          "2.3",
          "5.8",
          "nan",
          "2.3",
          "6.8",
          "17.0",
          "4.6",
          "12.0",
          "8.0",
          "7.8",
          "15.8",
          "12.8",
          "nan",
          "7.5",
          "7.0",
          "4.6",
          "5.6",
          "9.6",
          "nan",
          "12.4"
         ],
         "textfont": {
          "color": "blue",
          "size": 14
         },
         "textposition": "top center",
         "type": "scatter",
         "x": [
          "CACHACHI",
          "CAJABAMBA",
          "ASUNCION",
          "GRANJA PORCON",
          "AUGUSTO WEBERBAUER",
          "COSPAN",
          "LA ENCAÑADA",
          "JESUS",
          "MAGDALENA",
          "NAMORA",
          "SAN JUAN",
          "CELENDIN",
          "CONTUMAZA",
          "SAN BENITO",
          "MONTE GRANDE",
          "CHUGUR",
          "SONDOR-MATARA",
          "SAN MARCOS",
          "QUILCATE",
          "LLAPA",
          "SAN MIGUEL",
          "LIVES",
          "SAN PABLO"
         ],
         "y": [
          6.2,
          8.9,
          12.8,
          2.3,
          5.8,
          null,
          2.3,
          6.8,
          17,
          4.6,
          12,
          8,
          7.8,
          15.8,
          12.8,
          null,
          7.5,
          7,
          4.6,
          5.6,
          9.6,
          null,
          12.4
         ],
         "yaxis": "y2"
        },
        {
         "marker": {
          "color": "yellowgreen"
         },
         "name": "PP de ayer (mm/día)",
         "opacity": 0.6,
         "text": [
          "0.0",
          "0.0",
          "0.0",
          "0.0",
          "0.0",
          "nan",
          "0.0",
          "0.0",
          "0.0",
          "0.0",
          "0.0",
          "0.0",
          "0.0",
          "0.0",
          "0.0",
          "0.0",
          "0.0",
          "0.0",
          "0.0",
          "0.0",
          "0.0",
          "0.0",
          "0.0"
         ],
         "textfont": {
          "color": "darkgreen",
          "size": 14
         },
         "textposition": "auto",
         "type": "bar",
         "x": [
          "CACHACHI",
          "CAJABAMBA",
          "ASUNCION",
          "GRANJA PORCON",
          "AUGUSTO WEBERBAUER",
          "COSPAN",
          "LA ENCAÑADA",
          "JESUS",
          "MAGDALENA",
          "NAMORA",
          "SAN JUAN",
          "CELENDIN",
          "CONTUMAZA",
          "SAN BENITO",
          "MONTE GRANDE",
          "CHUGUR",
          "SONDOR-MATARA",
          "SAN MARCOS",
          "QUILCATE",
          "LLAPA",
          "SAN MIGUEL",
          "LIVES",
          "SAN PABLO"
         ],
         "y": [
          0,
          0,
          0,
          0,
          0,
          null,
          0,
          0,
          0,
          0,
          0,
          0,
          0,
          0,
          0,
          0,
          0,
          0,
          0,
          0,
          0,
          0,
          0
         ]
        }
       ],
       "layout": {
        "height": 600,
        "legend": {
         "bordercolor": "rgba(244,244,244,255)",
         "borderwidth": 1,
         "orientation": "h",
         "x": 0.3,
         "y": 1.1,
         "yanchor": "top"
        },
        "margin": {
         "b": 20,
         "l": 50,
         "pad": 4,
         "r": 50,
         "t": 40
        },
        "paper_bgcolor": "rgb(255, 255, 255)",
        "plot_bgcolor": "rgb(255, 255, 255)",
        "showlegend": true,
        "template": {
         "data": {
          "bar": [
           {
            "error_x": {
             "color": "#2a3f5f"
            },
            "error_y": {
             "color": "#2a3f5f"
            },
            "marker": {
             "line": {
              "color": "#E5ECF6",
              "width": 0.5
             },
             "pattern": {
              "fillmode": "overlay",
              "size": 10,
              "solidity": 0.2
             }
            },
            "type": "bar"
           }
          ],
          "barpolar": [
           {
            "marker": {
             "line": {
              "color": "#E5ECF6",
              "width": 0.5
             },
             "pattern": {
              "fillmode": "overlay",
              "size": 10,
              "solidity": 0.2
             }
            },
            "type": "barpolar"
           }
          ],
          "carpet": [
           {
            "aaxis": {
             "endlinecolor": "#2a3f5f",
             "gridcolor": "white",
             "linecolor": "white",
             "minorgridcolor": "white",
             "startlinecolor": "#2a3f5f"
            },
            "baxis": {
             "endlinecolor": "#2a3f5f",
             "gridcolor": "white",
             "linecolor": "white",
             "minorgridcolor": "white",
             "startlinecolor": "#2a3f5f"
            },
            "type": "carpet"
           }
          ],
          "choropleth": [
           {
            "colorbar": {
             "outlinewidth": 0,
             "ticks": ""
            },
            "type": "choropleth"
           }
          ],
          "contour": [
           {
            "colorbar": {
             "outlinewidth": 0,
             "ticks": ""
            },
            "colorscale": [
             [
              0,
              "#0d0887"
             ],
             [
              0.1111111111111111,
              "#46039f"
             ],
             [
              0.2222222222222222,
              "#7201a8"
             ],
             [
              0.3333333333333333,
              "#9c179e"
             ],
             [
              0.4444444444444444,
              "#bd3786"
             ],
             [
              0.5555555555555556,
              "#d8576b"
             ],
             [
              0.6666666666666666,
              "#ed7953"
             ],
             [
              0.7777777777777778,
              "#fb9f3a"
             ],
             [
              0.8888888888888888,
              "#fdca26"
             ],
             [
              1,
              "#f0f921"
             ]
            ],
            "type": "contour"
           }
          ],
          "contourcarpet": [
           {
            "colorbar": {
             "outlinewidth": 0,
             "ticks": ""
            },
            "type": "contourcarpet"
           }
          ],
          "heatmap": [
           {
            "colorbar": {
             "outlinewidth": 0,
             "ticks": ""
            },
            "colorscale": [
             [
              0,
              "#0d0887"
             ],
             [
              0.1111111111111111,
              "#46039f"
             ],
             [
              0.2222222222222222,
              "#7201a8"
             ],
             [
              0.3333333333333333,
              "#9c179e"
             ],
             [
              0.4444444444444444,
              "#bd3786"
             ],
             [
              0.5555555555555556,
              "#d8576b"
             ],
             [
              0.6666666666666666,
              "#ed7953"
             ],
             [
              0.7777777777777778,
              "#fb9f3a"
             ],
             [
              0.8888888888888888,
              "#fdca26"
             ],
             [
              1,
              "#f0f921"
             ]
            ],
            "type": "heatmap"
           }
          ],
          "heatmapgl": [
           {
            "colorbar": {
             "outlinewidth": 0,
             "ticks": ""
            },
            "colorscale": [
             [
              0,
              "#0d0887"
             ],
             [
              0.1111111111111111,
              "#46039f"
             ],
             [
              0.2222222222222222,
              "#7201a8"
             ],
             [
              0.3333333333333333,
              "#9c179e"
             ],
             [
              0.4444444444444444,
              "#bd3786"
             ],
             [
              0.5555555555555556,
              "#d8576b"
             ],
             [
              0.6666666666666666,
              "#ed7953"
             ],
             [
              0.7777777777777778,
              "#fb9f3a"
             ],
             [
              0.8888888888888888,
              "#fdca26"
             ],
             [
              1,
              "#f0f921"
             ]
            ],
            "type": "heatmapgl"
           }
          ],
          "histogram": [
           {
            "marker": {
             "pattern": {
              "fillmode": "overlay",
              "size": 10,
              "solidity": 0.2
             }
            },
            "type": "histogram"
           }
          ],
          "histogram2d": [
           {
            "colorbar": {
             "outlinewidth": 0,
             "ticks": ""
            },
            "colorscale": [
             [
              0,
              "#0d0887"
             ],
             [
              0.1111111111111111,
              "#46039f"
             ],
             [
              0.2222222222222222,
              "#7201a8"
             ],
             [
              0.3333333333333333,
              "#9c179e"
             ],
             [
              0.4444444444444444,
              "#bd3786"
             ],
             [
              0.5555555555555556,
              "#d8576b"
             ],
             [
              0.6666666666666666,
              "#ed7953"
             ],
             [
              0.7777777777777778,
              "#fb9f3a"
             ],
             [
              0.8888888888888888,
              "#fdca26"
             ],
             [
              1,
              "#f0f921"
             ]
            ],
            "type": "histogram2d"
           }
          ],
          "histogram2dcontour": [
           {
            "colorbar": {
             "outlinewidth": 0,
             "ticks": ""
            },
            "colorscale": [
             [
              0,
              "#0d0887"
             ],
             [
              0.1111111111111111,
              "#46039f"
             ],
             [
              0.2222222222222222,
              "#7201a8"
             ],
             [
              0.3333333333333333,
              "#9c179e"
             ],
             [
              0.4444444444444444,
              "#bd3786"
             ],
             [
              0.5555555555555556,
              "#d8576b"
             ],
             [
              0.6666666666666666,
              "#ed7953"
             ],
             [
              0.7777777777777778,
              "#fb9f3a"
             ],
             [
              0.8888888888888888,
              "#fdca26"
             ],
             [
              1,
              "#f0f921"
             ]
            ],
            "type": "histogram2dcontour"
           }
          ],
          "mesh3d": [
           {
            "colorbar": {
             "outlinewidth": 0,
             "ticks": ""
            },
            "type": "mesh3d"
           }
          ],
          "parcoords": [
           {
            "line": {
             "colorbar": {
              "outlinewidth": 0,
              "ticks": ""
             }
            },
            "type": "parcoords"
           }
          ],
          "pie": [
           {
            "automargin": true,
            "type": "pie"
           }
          ],
          "scatter": [
           {
            "fillpattern": {
             "fillmode": "overlay",
             "size": 10,
             "solidity": 0.2
            },
            "type": "scatter"
           }
          ],
          "scatter3d": [
           {
            "line": {
             "colorbar": {
              "outlinewidth": 0,
              "ticks": ""
             }
            },
            "marker": {
             "colorbar": {
              "outlinewidth": 0,
              "ticks": ""
             }
            },
            "type": "scatter3d"
           }
          ],
          "scattercarpet": [
           {
            "marker": {
             "colorbar": {
              "outlinewidth": 0,
              "ticks": ""
             }
            },
            "type": "scattercarpet"
           }
          ],
          "scattergeo": [
           {
            "marker": {
             "colorbar": {
              "outlinewidth": 0,
              "ticks": ""
             }
            },
            "type": "scattergeo"
           }
          ],
          "scattergl": [
           {
            "marker": {
             "colorbar": {
              "outlinewidth": 0,
              "ticks": ""
             }
            },
            "type": "scattergl"
           }
          ],
          "scattermapbox": [
           {
            "marker": {
             "colorbar": {
              "outlinewidth": 0,
              "ticks": ""
             }
            },
            "type": "scattermapbox"
           }
          ],
          "scatterpolar": [
           {
            "marker": {
             "colorbar": {
              "outlinewidth": 0,
              "ticks": ""
             }
            },
            "type": "scatterpolar"
           }
          ],
          "scatterpolargl": [
           {
            "marker": {
             "colorbar": {
              "outlinewidth": 0,
              "ticks": ""
             }
            },
            "type": "scatterpolargl"
           }
          ],
          "scatterternary": [
           {
            "marker": {
             "colorbar": {
              "outlinewidth": 0,
              "ticks": ""
             }
            },
            "type": "scatterternary"
           }
          ],
          "surface": [
           {
            "colorbar": {
             "outlinewidth": 0,
             "ticks": ""
            },
            "colorscale": [
             [
              0,
              "#0d0887"
             ],
             [
              0.1111111111111111,
              "#46039f"
             ],
             [
              0.2222222222222222,
              "#7201a8"
             ],
             [
              0.3333333333333333,
              "#9c179e"
             ],
             [
              0.4444444444444444,
              "#bd3786"
             ],
             [
              0.5555555555555556,
              "#d8576b"
             ],
             [
              0.6666666666666666,
              "#ed7953"
             ],
             [
              0.7777777777777778,
              "#fb9f3a"
             ],
             [
              0.8888888888888888,
              "#fdca26"
             ],
             [
              1,
              "#f0f921"
             ]
            ],
            "type": "surface"
           }
          ],
          "table": [
           {
            "cells": {
             "fill": {
              "color": "#EBF0F8"
             },
             "line": {
              "color": "white"
             }
            },
            "header": {
             "fill": {
              "color": "#C8D4E3"
             },
             "line": {
              "color": "white"
             }
            },
            "type": "table"
           }
          ]
         },
         "layout": {
          "annotationdefaults": {
           "arrowcolor": "#2a3f5f",
           "arrowhead": 0,
           "arrowwidth": 1
          },
          "autotypenumbers": "strict",
          "coloraxis": {
           "colorbar": {
            "outlinewidth": 0,
            "ticks": ""
           }
          },
          "colorscale": {
           "diverging": [
            [
             0,
             "#8e0152"
            ],
            [
             0.1,
             "#c51b7d"
            ],
            [
             0.2,
             "#de77ae"
            ],
            [
             0.3,
             "#f1b6da"
            ],
            [
             0.4,
             "#fde0ef"
            ],
            [
             0.5,
             "#f7f7f7"
            ],
            [
             0.6,
             "#e6f5d0"
            ],
            [
             0.7,
             "#b8e186"
            ],
            [
             0.8,
             "#7fbc41"
            ],
            [
             0.9,
             "#4d9221"
            ],
            [
             1,
             "#276419"
            ]
           ],
           "sequential": [
            [
             0,
             "#0d0887"
            ],
            [
             0.1111111111111111,
             "#46039f"
            ],
            [
             0.2222222222222222,
             "#7201a8"
            ],
            [
             0.3333333333333333,
             "#9c179e"
            ],
            [
             0.4444444444444444,
             "#bd3786"
            ],
            [
             0.5555555555555556,
             "#d8576b"
            ],
            [
             0.6666666666666666,
             "#ed7953"
            ],
            [
             0.7777777777777778,
             "#fb9f3a"
            ],
            [
             0.8888888888888888,
             "#fdca26"
            ],
            [
             1,
             "#f0f921"
            ]
           ],
           "sequentialminus": [
            [
             0,
             "#0d0887"
            ],
            [
             0.1111111111111111,
             "#46039f"
            ],
            [
             0.2222222222222222,
             "#7201a8"
            ],
            [
             0.3333333333333333,
             "#9c179e"
            ],
            [
             0.4444444444444444,
             "#bd3786"
            ],
            [
             0.5555555555555556,
             "#d8576b"
            ],
            [
             0.6666666666666666,
             "#ed7953"
            ],
            [
             0.7777777777777778,
             "#fb9f3a"
            ],
            [
             0.8888888888888888,
             "#fdca26"
            ],
            [
             1,
             "#f0f921"
            ]
           ]
          },
          "colorway": [
           "#636efa",
           "#EF553B",
           "#00cc96",
           "#ab63fa",
           "#FFA15A",
           "#19d3f3",
           "#FF6692",
           "#B6E880",
           "#FF97FF",
           "#FECB52"
          ],
          "font": {
           "color": "#2a3f5f"
          },
          "geo": {
           "bgcolor": "white",
           "lakecolor": "white",
           "landcolor": "#E5ECF6",
           "showlakes": true,
           "showland": true,
           "subunitcolor": "white"
          },
          "hoverlabel": {
           "align": "left"
          },
          "hovermode": "closest",
          "mapbox": {
           "style": "light"
          },
          "paper_bgcolor": "white",
          "plot_bgcolor": "#E5ECF6",
          "polar": {
           "angularaxis": {
            "gridcolor": "white",
            "linecolor": "white",
            "ticks": ""
           },
           "bgcolor": "#E5ECF6",
           "radialaxis": {
            "gridcolor": "white",
            "linecolor": "white",
            "ticks": ""
           }
          },
          "scene": {
           "xaxis": {
            "backgroundcolor": "#E5ECF6",
            "gridcolor": "white",
            "gridwidth": 2,
            "linecolor": "white",
            "showbackground": true,
            "ticks": "",
            "zerolinecolor": "white"
           },
           "yaxis": {
            "backgroundcolor": "#E5ECF6",
            "gridcolor": "white",
            "gridwidth": 2,
            "linecolor": "white",
            "showbackground": true,
            "ticks": "",
            "zerolinecolor": "white"
           },
           "zaxis": {
            "backgroundcolor": "#E5ECF6",
            "gridcolor": "white",
            "gridwidth": 2,
            "linecolor": "white",
            "showbackground": true,
            "ticks": "",
            "zerolinecolor": "white"
           }
          },
          "shapedefaults": {
           "line": {
            "color": "#2a3f5f"
           }
          },
          "ternary": {
           "aaxis": {
            "gridcolor": "white",
            "linecolor": "white",
            "ticks": ""
           },
           "baxis": {
            "gridcolor": "white",
            "linecolor": "white",
            "ticks": ""
           },
           "bgcolor": "#E5ECF6",
           "caxis": {
            "gridcolor": "white",
            "linecolor": "white",
            "ticks": ""
           }
          },
          "title": {
           "x": 0.05
          },
          "xaxis": {
           "automargin": true,
           "gridcolor": "white",
           "linecolor": "white",
           "ticks": "",
           "title": {
            "standoff": 15
           },
           "zerolinecolor": "white",
           "zerolinewidth": 2
          },
          "yaxis": {
           "automargin": true,
           "gridcolor": "white",
           "linecolor": "white",
           "ticks": "",
           "title": {
            "standoff": 15
           },
           "zerolinecolor": "white",
           "zerolinewidth": 2
          }
         }
        },
        "xaxis": {
         "domain": [
          0,
          0.94
         ],
         "gridcolor": "#e3e2e1",
         "gridwidth": 1,
         "linecolor": "rgba(196,198,206,255)",
         "linewidth": 0.5,
         "showgrid": true,
         "showline": true,
         "tickangle": -45,
         "title": {
          "font": {
           "color": "rgba(100,143,240,255)"
          }
         }
        },
        "yaxis": {
         "domain": [
          0,
          0.94
         ],
         "gridcolor": "#e3e2e1",
         "gridwidth": 0.5,
         "showgrid": false,
         "side": "right",
         "tickfont": {
          "color": "rgba(100,143,240,255)"
         },
         "title": {
          "font": {
           "color": "rgba(100,143,240,255)"
          },
          "text": "Precipitacion (mm/día)"
         }
        },
        "yaxis2": {
         "anchor": "x",
         "dtick": 3,
         "gridcolor": "#e3e2e1",
         "gridwidth": 0.5,
         "overlaying": "y",
         "showgrid": true,
         "side": "left",
         "tickfont": {
          "color": "rgba(100,143,240,255)"
         },
         "title": {
          "font": {
           "color": "rgba(100,143,240,255)"
          },
          "text": "Temperatura (°C)"
         }
        }
       }
      }
     },
     "metadata": {},
     "output_type": "display_data"
    }
   ],
   "source": [
    "last_data_fig.show()"
   ]
  },
  {
   "cell_type": "code",
   "execution_count": 40,
   "metadata": {},
   "outputs": [],
   "source": [
    "df = ds.last_data_df"
   ]
  },
  {
   "cell_type": "code",
   "execution_count": 41,
   "metadata": {},
   "outputs": [],
   "source": [
    "plu_st = [\"LIVES\", \"CHUGUR\"]\n",
    "df = df[[\"Lat\", \"Lon\", 'TMAX']]\n",
    "df = df[~df.index.isin(plu_st)]\n",
    "df['size'] = 10"
   ]
  },
  {
   "cell_type": "code",
   "execution_count": 42,
   "metadata": {},
   "outputs": [],
   "source": [
    "opt = {\"Lat\": False, \"Lon\": False, \"size\": False, \"TMAX\": True}\n",
    "color_scale = px.colors.sequential.YlOrRd"
   ]
  },
  {
   "cell_type": "code",
   "execution_count": 44,
   "metadata": {},
   "outputs": [
    {
     "data": {
      "application/vnd.plotly.v1+json": {
       "config": {
        "plotlyServerURL": "https://plot.ly"
       },
       "data": [
        {
         "customdata": [
          [
           -7.45106,
           -78.26855,
           10,
           17.2
          ],
          [
           -7.62166,
           -78.05131,
           10,
           22.7
          ],
          [
           -7.32604,
           -78.51582,
           10,
           23.6
          ],
          [
           -7.03753,
           -78.6334,
           10,
           18.7
          ],
          [
           -7.1675,
           -78.49309,
           10,
           22.2
          ],
          [
           -7.42857,
           -78.54106,
           10,
           null
          ],
          [
           -7.12327,
           -78.33314,
           10,
           19.6
          ],
          [
           -7.2457,
           -78.38841,
           10,
           28.2
          ],
          [
           -7.25346,
           -78.65261,
           10,
           29
          ],
          [
           -7.2006,
           -78.32782,
           10,
           22.3
          ],
          [
           -7.29756,
           -78.49106,
           10,
           25.4
          ],
          [
           -6.85292,
           -78.14485,
           10,
           20
          ],
          [
           -7.36521,
           -78.82273,
           10,
           21.6
          ],
          [
           -7.42819,
           -78.92673,
           10,
           25.6
          ],
          [
           -7.22499,
           -79.15323,
           10,
           30
          ],
          [
           -7.23687,
           -78.21262,
           10,
           21.2
          ],
          [
           -7.32249,
           -78.1727,
           10,
           25.6
          ],
          [
           -6.82275,
           -78.744,
           10,
           17.6
          ],
          [
           -6.97833,
           -78.81119,
           10,
           19.6
          ],
          [
           -6.99684,
           -78.85308,
           10,
           20
          ],
          [
           -7.11775,
           -78.83083,
           10,
           21.6
          ]
         ],
         "hovertemplate": "<b>%{hovertext}</b><br><br>TMAX=%{marker.color}<extra></extra>",
         "hovertext": [
          "CACHACHI",
          "CAJABAMBA",
          "ASUNCION",
          "GRANJA PORCON",
          "AUGUSTO WEBERBAUER",
          "COSPAN",
          "LA ENCAÑADA",
          "JESUS",
          "MAGDALENA",
          "NAMORA",
          "SAN JUAN",
          "CELENDIN",
          "CONTUMAZA",
          "SAN BENITO",
          "MONTE GRANDE",
          "SONDOR-MATARA",
          "SAN MARCOS",
          "QUILCATE",
          "LLAPA",
          "SAN MIGUEL",
          "SAN PABLO"
         ],
         "lat": [
          -7.45106,
          -7.62166,
          -7.32604,
          -7.03753,
          -7.1675,
          -7.42857,
          -7.12327,
          -7.2457,
          -7.25346,
          -7.2006,
          -7.29756,
          -6.85292,
          -7.36521,
          -7.42819,
          -7.22499,
          -7.23687,
          -7.32249,
          -6.82275,
          -6.97833,
          -6.99684,
          -7.11775
         ],
         "legendgroup": "",
         "lon": [
          -78.26855,
          -78.05131,
          -78.51582,
          -78.6334,
          -78.49309,
          -78.54106,
          -78.33314,
          -78.38841,
          -78.65261,
          -78.32782,
          -78.49106,
          -78.14485,
          -78.82273,
          -78.92673,
          -79.15323,
          -78.21262,
          -78.1727,
          -78.744,
          -78.81119,
          -78.85308,
          -78.83083
         ],
         "marker": {
          "color": [
           17.2,
           22.7,
           23.6,
           18.7,
           22.2,
           null,
           19.6,
           28.2,
           29,
           22.3,
           25.4,
           20,
           21.6,
           25.6,
           30,
           21.2,
           25.6,
           17.6,
           19.6,
           20,
           21.6
          ],
          "coloraxis": "coloraxis",
          "opacity": 0.9,
          "size": [
           10,
           10,
           10,
           10,
           10,
           10,
           10,
           10,
           10,
           10,
           10,
           10,
           10,
           10,
           10,
           10,
           10,
           10,
           10,
           10,
           10
          ],
          "sizemode": "area",
          "sizeref": 0.03460207612456748
         },
         "mode": "markers",
         "name": "",
         "showlegend": false,
         "subplot": "mapbox",
         "type": "scattermapbox"
        }
       ],
       "layout": {
        "autosize": false,
        "coloraxis": {
         "colorbar": {
          "title": {
           "text": "TMAX"
          }
         },
         "colorscale": [
          [
           0,
           "rgb(255,255,204)"
          ],
          [
           0.125,
           "rgb(255,237,160)"
          ],
          [
           0.25,
           "rgb(254,217,118)"
          ],
          [
           0.375,
           "rgb(254,178,76)"
          ],
          [
           0.5,
           "rgb(253,141,60)"
          ],
          [
           0.625,
           "rgb(252,78,42)"
          ],
          [
           0.75,
           "rgb(227,26,28)"
          ],
          [
           0.875,
           "rgb(189,0,38)"
          ],
          [
           1,
           "rgb(128,0,38)"
          ]
         ]
        },
        "height": 500,
        "hovermode": "closest",
        "legend": {
         "itemsizing": "constant",
         "tracegroupgap": 0
        },
        "mapbox": {
         "accesstoken": "pk.eyJ1Ijoicm9zZXBiMjgiLCJhIjoiY2t5cmlmbXZ6MHU3NTJvcWp3dnRqaWh4MSJ9.PHbxpxe6JpZoIDUJB1fjmQ",
         "bearing": 0,
         "center": {
          "lat": -7.16,
          "lon": -78.49
         },
         "domain": {
          "x": [
           0,
           1
          ],
          "y": [
           0,
           1
          ]
         },
         "pitch": 0,
         "style": "light",
         "zoom": 8
        },
        "margin": {
         "b": 0,
         "l": 0,
         "r": 0,
         "t": 0
        },
        "template": {
         "data": {
          "bar": [
           {
            "error_x": {
             "color": "#2a3f5f"
            },
            "error_y": {
             "color": "#2a3f5f"
            },
            "marker": {
             "line": {
              "color": "#E5ECF6",
              "width": 0.5
             },
             "pattern": {
              "fillmode": "overlay",
              "size": 10,
              "solidity": 0.2
             }
            },
            "type": "bar"
           }
          ],
          "barpolar": [
           {
            "marker": {
             "line": {
              "color": "#E5ECF6",
              "width": 0.5
             },
             "pattern": {
              "fillmode": "overlay",
              "size": 10,
              "solidity": 0.2
             }
            },
            "type": "barpolar"
           }
          ],
          "carpet": [
           {
            "aaxis": {
             "endlinecolor": "#2a3f5f",
             "gridcolor": "white",
             "linecolor": "white",
             "minorgridcolor": "white",
             "startlinecolor": "#2a3f5f"
            },
            "baxis": {
             "endlinecolor": "#2a3f5f",
             "gridcolor": "white",
             "linecolor": "white",
             "minorgridcolor": "white",
             "startlinecolor": "#2a3f5f"
            },
            "type": "carpet"
           }
          ],
          "choropleth": [
           {
            "colorbar": {
             "outlinewidth": 0,
             "ticks": ""
            },
            "type": "choropleth"
           }
          ],
          "contour": [
           {
            "colorbar": {
             "outlinewidth": 0,
             "ticks": ""
            },
            "colorscale": [
             [
              0,
              "#0d0887"
             ],
             [
              0.1111111111111111,
              "#46039f"
             ],
             [
              0.2222222222222222,
              "#7201a8"
             ],
             [
              0.3333333333333333,
              "#9c179e"
             ],
             [
              0.4444444444444444,
              "#bd3786"
             ],
             [
              0.5555555555555556,
              "#d8576b"
             ],
             [
              0.6666666666666666,
              "#ed7953"
             ],
             [
              0.7777777777777778,
              "#fb9f3a"
             ],
             [
              0.8888888888888888,
              "#fdca26"
             ],
             [
              1,
              "#f0f921"
             ]
            ],
            "type": "contour"
           }
          ],
          "contourcarpet": [
           {
            "colorbar": {
             "outlinewidth": 0,
             "ticks": ""
            },
            "type": "contourcarpet"
           }
          ],
          "heatmap": [
           {
            "colorbar": {
             "outlinewidth": 0,
             "ticks": ""
            },
            "colorscale": [
             [
              0,
              "#0d0887"
             ],
             [
              0.1111111111111111,
              "#46039f"
             ],
             [
              0.2222222222222222,
              "#7201a8"
             ],
             [
              0.3333333333333333,
              "#9c179e"
             ],
             [
              0.4444444444444444,
              "#bd3786"
             ],
             [
              0.5555555555555556,
              "#d8576b"
             ],
             [
              0.6666666666666666,
              "#ed7953"
             ],
             [
              0.7777777777777778,
              "#fb9f3a"
             ],
             [
              0.8888888888888888,
              "#fdca26"
             ],
             [
              1,
              "#f0f921"
             ]
            ],
            "type": "heatmap"
           }
          ],
          "heatmapgl": [
           {
            "colorbar": {
             "outlinewidth": 0,
             "ticks": ""
            },
            "colorscale": [
             [
              0,
              "#0d0887"
             ],
             [
              0.1111111111111111,
              "#46039f"
             ],
             [
              0.2222222222222222,
              "#7201a8"
             ],
             [
              0.3333333333333333,
              "#9c179e"
             ],
             [
              0.4444444444444444,
              "#bd3786"
             ],
             [
              0.5555555555555556,
              "#d8576b"
             ],
             [
              0.6666666666666666,
              "#ed7953"
             ],
             [
              0.7777777777777778,
              "#fb9f3a"
             ],
             [
              0.8888888888888888,
              "#fdca26"
             ],
             [
              1,
              "#f0f921"
             ]
            ],
            "type": "heatmapgl"
           }
          ],
          "histogram": [
           {
            "marker": {
             "pattern": {
              "fillmode": "overlay",
              "size": 10,
              "solidity": 0.2
             }
            },
            "type": "histogram"
           }
          ],
          "histogram2d": [
           {
            "colorbar": {
             "outlinewidth": 0,
             "ticks": ""
            },
            "colorscale": [
             [
              0,
              "#0d0887"
             ],
             [
              0.1111111111111111,
              "#46039f"
             ],
             [
              0.2222222222222222,
              "#7201a8"
             ],
             [
              0.3333333333333333,
              "#9c179e"
             ],
             [
              0.4444444444444444,
              "#bd3786"
             ],
             [
              0.5555555555555556,
              "#d8576b"
             ],
             [
              0.6666666666666666,
              "#ed7953"
             ],
             [
              0.7777777777777778,
              "#fb9f3a"
             ],
             [
              0.8888888888888888,
              "#fdca26"
             ],
             [
              1,
              "#f0f921"
             ]
            ],
            "type": "histogram2d"
           }
          ],
          "histogram2dcontour": [
           {
            "colorbar": {
             "outlinewidth": 0,
             "ticks": ""
            },
            "colorscale": [
             [
              0,
              "#0d0887"
             ],
             [
              0.1111111111111111,
              "#46039f"
             ],
             [
              0.2222222222222222,
              "#7201a8"
             ],
             [
              0.3333333333333333,
              "#9c179e"
             ],
             [
              0.4444444444444444,
              "#bd3786"
             ],
             [
              0.5555555555555556,
              "#d8576b"
             ],
             [
              0.6666666666666666,
              "#ed7953"
             ],
             [
              0.7777777777777778,
              "#fb9f3a"
             ],
             [
              0.8888888888888888,
              "#fdca26"
             ],
             [
              1,
              "#f0f921"
             ]
            ],
            "type": "histogram2dcontour"
           }
          ],
          "mesh3d": [
           {
            "colorbar": {
             "outlinewidth": 0,
             "ticks": ""
            },
            "type": "mesh3d"
           }
          ],
          "parcoords": [
           {
            "line": {
             "colorbar": {
              "outlinewidth": 0,
              "ticks": ""
             }
            },
            "type": "parcoords"
           }
          ],
          "pie": [
           {
            "automargin": true,
            "type": "pie"
           }
          ],
          "scatter": [
           {
            "fillpattern": {
             "fillmode": "overlay",
             "size": 10,
             "solidity": 0.2
            },
            "type": "scatter"
           }
          ],
          "scatter3d": [
           {
            "line": {
             "colorbar": {
              "outlinewidth": 0,
              "ticks": ""
             }
            },
            "marker": {
             "colorbar": {
              "outlinewidth": 0,
              "ticks": ""
             }
            },
            "type": "scatter3d"
           }
          ],
          "scattercarpet": [
           {
            "marker": {
             "colorbar": {
              "outlinewidth": 0,
              "ticks": ""
             }
            },
            "type": "scattercarpet"
           }
          ],
          "scattergeo": [
           {
            "marker": {
             "colorbar": {
              "outlinewidth": 0,
              "ticks": ""
             }
            },
            "type": "scattergeo"
           }
          ],
          "scattergl": [
           {
            "marker": {
             "colorbar": {
              "outlinewidth": 0,
              "ticks": ""
             }
            },
            "type": "scattergl"
           }
          ],
          "scattermapbox": [
           {
            "marker": {
             "colorbar": {
              "outlinewidth": 0,
              "ticks": ""
             }
            },
            "type": "scattermapbox"
           }
          ],
          "scatterpolar": [
           {
            "marker": {
             "colorbar": {
              "outlinewidth": 0,
              "ticks": ""
             }
            },
            "type": "scatterpolar"
           }
          ],
          "scatterpolargl": [
           {
            "marker": {
             "colorbar": {
              "outlinewidth": 0,
              "ticks": ""
             }
            },
            "type": "scatterpolargl"
           }
          ],
          "scatterternary": [
           {
            "marker": {
             "colorbar": {
              "outlinewidth": 0,
              "ticks": ""
             }
            },
            "type": "scatterternary"
           }
          ],
          "surface": [
           {
            "colorbar": {
             "outlinewidth": 0,
             "ticks": ""
            },
            "colorscale": [
             [
              0,
              "#0d0887"
             ],
             [
              0.1111111111111111,
              "#46039f"
             ],
             [
              0.2222222222222222,
              "#7201a8"
             ],
             [
              0.3333333333333333,
              "#9c179e"
             ],
             [
              0.4444444444444444,
              "#bd3786"
             ],
             [
              0.5555555555555556,
              "#d8576b"
             ],
             [
              0.6666666666666666,
              "#ed7953"
             ],
             [
              0.7777777777777778,
              "#fb9f3a"
             ],
             [
              0.8888888888888888,
              "#fdca26"
             ],
             [
              1,
              "#f0f921"
             ]
            ],
            "type": "surface"
           }
          ],
          "table": [
           {
            "cells": {
             "fill": {
              "color": "#EBF0F8"
             },
             "line": {
              "color": "white"
             }
            },
            "header": {
             "fill": {
              "color": "#C8D4E3"
             },
             "line": {
              "color": "white"
             }
            },
            "type": "table"
           }
          ]
         },
         "layout": {
          "annotationdefaults": {
           "arrowcolor": "#2a3f5f",
           "arrowhead": 0,
           "arrowwidth": 1
          },
          "autotypenumbers": "strict",
          "coloraxis": {
           "colorbar": {
            "outlinewidth": 0,
            "ticks": ""
           }
          },
          "colorscale": {
           "diverging": [
            [
             0,
             "#8e0152"
            ],
            [
             0.1,
             "#c51b7d"
            ],
            [
             0.2,
             "#de77ae"
            ],
            [
             0.3,
             "#f1b6da"
            ],
            [
             0.4,
             "#fde0ef"
            ],
            [
             0.5,
             "#f7f7f7"
            ],
            [
             0.6,
             "#e6f5d0"
            ],
            [
             0.7,
             "#b8e186"
            ],
            [
             0.8,
             "#7fbc41"
            ],
            [
             0.9,
             "#4d9221"
            ],
            [
             1,
             "#276419"
            ]
           ],
           "sequential": [
            [
             0,
             "#0d0887"
            ],
            [
             0.1111111111111111,
             "#46039f"
            ],
            [
             0.2222222222222222,
             "#7201a8"
            ],
            [
             0.3333333333333333,
             "#9c179e"
            ],
            [
             0.4444444444444444,
             "#bd3786"
            ],
            [
             0.5555555555555556,
             "#d8576b"
            ],
            [
             0.6666666666666666,
             "#ed7953"
            ],
            [
             0.7777777777777778,
             "#fb9f3a"
            ],
            [
             0.8888888888888888,
             "#fdca26"
            ],
            [
             1,
             "#f0f921"
            ]
           ],
           "sequentialminus": [
            [
             0,
             "#0d0887"
            ],
            [
             0.1111111111111111,
             "#46039f"
            ],
            [
             0.2222222222222222,
             "#7201a8"
            ],
            [
             0.3333333333333333,
             "#9c179e"
            ],
            [
             0.4444444444444444,
             "#bd3786"
            ],
            [
             0.5555555555555556,
             "#d8576b"
            ],
            [
             0.6666666666666666,
             "#ed7953"
            ],
            [
             0.7777777777777778,
             "#fb9f3a"
            ],
            [
             0.8888888888888888,
             "#fdca26"
            ],
            [
             1,
             "#f0f921"
            ]
           ]
          },
          "colorway": [
           "#636efa",
           "#EF553B",
           "#00cc96",
           "#ab63fa",
           "#FFA15A",
           "#19d3f3",
           "#FF6692",
           "#B6E880",
           "#FF97FF",
           "#FECB52"
          ],
          "font": {
           "color": "#2a3f5f"
          },
          "geo": {
           "bgcolor": "white",
           "lakecolor": "white",
           "landcolor": "#E5ECF6",
           "showlakes": true,
           "showland": true,
           "subunitcolor": "white"
          },
          "hoverlabel": {
           "align": "left"
          },
          "hovermode": "closest",
          "mapbox": {
           "style": "light"
          },
          "paper_bgcolor": "white",
          "plot_bgcolor": "#E5ECF6",
          "polar": {
           "angularaxis": {
            "gridcolor": "white",
            "linecolor": "white",
            "ticks": ""
           },
           "bgcolor": "#E5ECF6",
           "radialaxis": {
            "gridcolor": "white",
            "linecolor": "white",
            "ticks": ""
           }
          },
          "scene": {
           "xaxis": {
            "backgroundcolor": "#E5ECF6",
            "gridcolor": "white",
            "gridwidth": 2,
            "linecolor": "white",
            "showbackground": true,
            "ticks": "",
            "zerolinecolor": "white"
           },
           "yaxis": {
            "backgroundcolor": "#E5ECF6",
            "gridcolor": "white",
            "gridwidth": 2,
            "linecolor": "white",
            "showbackground": true,
            "ticks": "",
            "zerolinecolor": "white"
           },
           "zaxis": {
            "backgroundcolor": "#E5ECF6",
            "gridcolor": "white",
            "gridwidth": 2,
            "linecolor": "white",
            "showbackground": true,
            "ticks": "",
            "zerolinecolor": "white"
           }
          },
          "shapedefaults": {
           "line": {
            "color": "#2a3f5f"
           }
          },
          "ternary": {
           "aaxis": {
            "gridcolor": "white",
            "linecolor": "white",
            "ticks": ""
           },
           "baxis": {
            "gridcolor": "white",
            "linecolor": "white",
            "ticks": ""
           },
           "bgcolor": "#E5ECF6",
           "caxis": {
            "gridcolor": "white",
            "linecolor": "white",
            "ticks": ""
           }
          },
          "title": {
           "x": 0.05
          },
          "xaxis": {
           "automargin": true,
           "gridcolor": "white",
           "linecolor": "white",
           "ticks": "",
           "title": {
            "standoff": 15
           },
           "zerolinecolor": "white",
           "zerolinewidth": 2
          },
          "yaxis": {
           "automargin": true,
           "gridcolor": "white",
           "linecolor": "white",
           "ticks": "",
           "title": {
            "standoff": 15
           },
           "zerolinecolor": "white",
           "zerolinewidth": 2
          }
         }
        },
        "width": 600
       }
      }
     },
     "metadata": {},
     "output_type": "display_data"
    }
   ],
   "source": [
    "mapbx = px.scatter_mapbox(\n",
    "    df,\n",
    "    lat=\"Lat\",\n",
    "    lon=\"Lon\",\n",
    "    hover_name=df.index,\n",
    "    hover_data=opt,\n",
    "    opacity=0.9,\n",
    "    color='TMAX',\n",
    "    color_continuous_scale=color_scale,\n",
    "    size=df[\"size\"],\n",
    "    size_max=17,\n",
    "    zoom=8,\n",
    "    height=500,\n",
    "    width=600,\n",
    ")\n",
    "\n",
    "mapbx.update_layout(\n",
    "    hovermode=\"closest\",\n",
    "    autosize=False,\n",
    "    mapbox=dict(\n",
    "        accesstoken=ds.mapbox_token,\n",
    "        bearing=0,\n",
    "        center=go.layout.mapbox.Center(lat=-7.16, lon=-78.49),\n",
    "        style=\"light\",\n",
    "        pitch=0,\n",
    "        zoom=8,\n",
    "    ),\n",
    "    margin=dict(t=0, b=0, l=0, r=0),\n",
    ")"
   ]
  },
  {
   "cell_type": "code",
   "execution_count": 4,
   "metadata": {},
   "outputs": [],
   "source": [
    "from scripts.calculations import LastData"
   ]
  },
  {
   "cell_type": "code",
   "execution_count": null,
   "metadata": {},
   "outputs": [],
   "source": [
    "# this_month, day, yday, \n",
    "\n",
    "# self.this_month = this_month\n",
    "# self.day = day\n",
    "# self.yday = yday\n",
    "\n",
    "#     self.last_data_dataframe()\n",
    "\n",
    "# def last_data_dataframe(self, this_month, day):\n",
    "#     last_data = {\n",
    "#         \"ESTACIONES\": self.mn.columns,\n",
    "#         \"TMIN\": self.mn[\n",
    "#             (self.mn.index.day == day) & (self.mn.index.month == this_month)\n",
    "#         ]\n",
    "#         .values[-1]\n",
    "#         .tolist(),\n",
    "#         \"TMAX\": self.mx[\n",
    "#             (self.mx.index.day == day) & (self.mx.index.month == this_month)\n",
    "#         ]\n",
    "#         .values[-1]\n",
    "#         .tolist(),\n",
    "#         \"PP\": self.pp[\n",
    "#             (self.pp.index.day == day) & (self.pp.index.month == this_month)\n",
    "#         ]\n",
    "#         .values[-1]\n",
    "#         .tolist(),\n",
    "#     }\n",
    "\n",
    "#     self.last_data_df = pd.DataFrame(last_data)\n",
    "#     self.last_data_df.set_index(\"ESTACIONES\", inplace=True)\n",
    "#     self.last_data_df = Utils(self.last_data_df, self.file).add_lat_lon()"
   ]
  },
  {
   "cell_type": "code",
   "execution_count": 5,
   "metadata": {},
   "outputs": [],
   "source": [
    "ld = LastData(ds.mn, ds.mx, ds.pp, ds.this_month, ds.day, ds.yday, ds.file)"
   ]
  },
  {
   "cell_type": "code",
   "execution_count": 9,
   "metadata": {},
   "outputs": [
    {
     "data": {
      "text/html": [
       "<div>\n",
       "<style scoped>\n",
       "    .dataframe tbody tr th:only-of-type {\n",
       "        vertical-align: middle;\n",
       "    }\n",
       "\n",
       "    .dataframe tbody tr th {\n",
       "        vertical-align: top;\n",
       "    }\n",
       "\n",
       "    .dataframe thead th {\n",
       "        text-align: right;\n",
       "    }\n",
       "</style>\n",
       "<table border=\"1\" class=\"dataframe\">\n",
       "  <thead>\n",
       "    <tr style=\"text-align: right;\">\n",
       "      <th></th>\n",
       "      <th>CACHACHI</th>\n",
       "      <th>CAJABAMBA</th>\n",
       "      <th>ASUNCION</th>\n",
       "      <th>GRANJA PORCON</th>\n",
       "      <th>AUGUSTO WEBERBAUER</th>\n",
       "      <th>COSPAN</th>\n",
       "      <th>LA ENCAÑADA</th>\n",
       "      <th>JESUS</th>\n",
       "      <th>MAGDALENA</th>\n",
       "      <th>NAMORA</th>\n",
       "      <th>SAN JUAN</th>\n",
       "      <th>CELENDIN</th>\n",
       "      <th>CONTUMAZA</th>\n",
       "      <th>SAN BENITO</th>\n",
       "      <th>MONTE GRANDE</th>\n",
       "      <th>CHUGUR</th>\n",
       "      <th>SONDOR-MATARA</th>\n",
       "      <th>SAN MARCOS</th>\n",
       "      <th>QUILCATE</th>\n",
       "      <th>LLAPA</th>\n",
       "      <th>SAN MIGUEL</th>\n",
       "      <th>LIVES</th>\n",
       "      <th>SAN PABLO</th>\n",
       "    </tr>\n",
       "    <tr>\n",
       "      <th>Fecha</th>\n",
       "      <th></th>\n",
       "      <th></th>\n",
       "      <th></th>\n",
       "      <th></th>\n",
       "      <th></th>\n",
       "      <th></th>\n",
       "      <th></th>\n",
       "      <th></th>\n",
       "      <th></th>\n",
       "      <th></th>\n",
       "      <th></th>\n",
       "      <th></th>\n",
       "      <th></th>\n",
       "      <th></th>\n",
       "      <th></th>\n",
       "      <th></th>\n",
       "      <th></th>\n",
       "      <th></th>\n",
       "      <th></th>\n",
       "      <th></th>\n",
       "      <th></th>\n",
       "      <th></th>\n",
       "      <th></th>\n",
       "    </tr>\n",
       "  </thead>\n",
       "  <tbody>\n",
       "    <tr>\n",
       "      <th>2023-06-01</th>\n",
       "      <td>16.4</td>\n",
       "      <td>21.3</td>\n",
       "      <td>27.6</td>\n",
       "      <td>17.9</td>\n",
       "      <td>21.7</td>\n",
       "      <td>24.9</td>\n",
       "      <td>19.0</td>\n",
       "      <td>25.2</td>\n",
       "      <td>30.2</td>\n",
       "      <td>22.0</td>\n",
       "      <td>26.0</td>\n",
       "      <td>21.6</td>\n",
       "      <td>23.4</td>\n",
       "      <td>26.5</td>\n",
       "      <td>30.6</td>\n",
       "      <td>NaN</td>\n",
       "      <td>21.6</td>\n",
       "      <td>24.8</td>\n",
       "      <td>18.6</td>\n",
       "      <td>19.4</td>\n",
       "      <td>20.6</td>\n",
       "      <td>NaN</td>\n",
       "      <td>22.8</td>\n",
       "    </tr>\n",
       "    <tr>\n",
       "      <th>2023-06-02</th>\n",
       "      <td>18.4</td>\n",
       "      <td>21.3</td>\n",
       "      <td>23.2</td>\n",
       "      <td>16.9</td>\n",
       "      <td>22.0</td>\n",
       "      <td>20.8</td>\n",
       "      <td>18.7</td>\n",
       "      <td>26.8</td>\n",
       "      <td>29.6</td>\n",
       "      <td>22.3</td>\n",
       "      <td>22.8</td>\n",
       "      <td>17.7</td>\n",
       "      <td>21.4</td>\n",
       "      <td>25.2</td>\n",
       "      <td>30.4</td>\n",
       "      <td>NaN</td>\n",
       "      <td>21.1</td>\n",
       "      <td>26.0</td>\n",
       "      <td>14.8</td>\n",
       "      <td>18.0</td>\n",
       "      <td>19.6</td>\n",
       "      <td>NaN</td>\n",
       "      <td>21.2</td>\n",
       "    </tr>\n",
       "    <tr>\n",
       "      <th>2023-06-03</th>\n",
       "      <td>18.8</td>\n",
       "      <td>21.6</td>\n",
       "      <td>23.6</td>\n",
       "      <td>18.6</td>\n",
       "      <td>23.3</td>\n",
       "      <td>20.7</td>\n",
       "      <td>19.7</td>\n",
       "      <td>28.2</td>\n",
       "      <td>29.8</td>\n",
       "      <td>23.0</td>\n",
       "      <td>22.4</td>\n",
       "      <td>20.5</td>\n",
       "      <td>21.6</td>\n",
       "      <td>26.0</td>\n",
       "      <td>31.0</td>\n",
       "      <td>NaN</td>\n",
       "      <td>22.5</td>\n",
       "      <td>27.0</td>\n",
       "      <td>17.2</td>\n",
       "      <td>18.2</td>\n",
       "      <td>19.0</td>\n",
       "      <td>NaN</td>\n",
       "      <td>21.6</td>\n",
       "    </tr>\n",
       "    <tr>\n",
       "      <th>2023-06-04</th>\n",
       "      <td>18.2</td>\n",
       "      <td>21.7</td>\n",
       "      <td>25.2</td>\n",
       "      <td>19.3</td>\n",
       "      <td>22.9</td>\n",
       "      <td>21.7</td>\n",
       "      <td>20.0</td>\n",
       "      <td>28.0</td>\n",
       "      <td>30.0</td>\n",
       "      <td>23.0</td>\n",
       "      <td>26.4</td>\n",
       "      <td>21.2</td>\n",
       "      <td>22.8</td>\n",
       "      <td>24.8</td>\n",
       "      <td>31.8</td>\n",
       "      <td>NaN</td>\n",
       "      <td>21.5</td>\n",
       "      <td>26.9</td>\n",
       "      <td>19.0</td>\n",
       "      <td>20.0</td>\n",
       "      <td>20.2</td>\n",
       "      <td>NaN</td>\n",
       "      <td>23.0</td>\n",
       "    </tr>\n",
       "    <tr>\n",
       "      <th>2023-06-05</th>\n",
       "      <td>17.0</td>\n",
       "      <td>22.1</td>\n",
       "      <td>27.8</td>\n",
       "      <td>17.9</td>\n",
       "      <td>22.8</td>\n",
       "      <td>25.0</td>\n",
       "      <td>20.2</td>\n",
       "      <td>27.6</td>\n",
       "      <td>28.8</td>\n",
       "      <td>22.6</td>\n",
       "      <td>26.6</td>\n",
       "      <td>19.9</td>\n",
       "      <td>23.6</td>\n",
       "      <td>25.0</td>\n",
       "      <td>31.8</td>\n",
       "      <td>NaN</td>\n",
       "      <td>22.5</td>\n",
       "      <td>25.5</td>\n",
       "      <td>17.8</td>\n",
       "      <td>21.0</td>\n",
       "      <td>20.8</td>\n",
       "      <td>NaN</td>\n",
       "      <td>22.6</td>\n",
       "    </tr>\n",
       "    <tr>\n",
       "      <th>2023-06-06</th>\n",
       "      <td>17.2</td>\n",
       "      <td>22.7</td>\n",
       "      <td>23.6</td>\n",
       "      <td>18.7</td>\n",
       "      <td>22.2</td>\n",
       "      <td>NaN</td>\n",
       "      <td>19.6</td>\n",
       "      <td>28.2</td>\n",
       "      <td>29.0</td>\n",
       "      <td>22.3</td>\n",
       "      <td>25.4</td>\n",
       "      <td>20.0</td>\n",
       "      <td>21.6</td>\n",
       "      <td>25.6</td>\n",
       "      <td>30.0</td>\n",
       "      <td>NaN</td>\n",
       "      <td>21.2</td>\n",
       "      <td>25.6</td>\n",
       "      <td>17.6</td>\n",
       "      <td>19.6</td>\n",
       "      <td>20.0</td>\n",
       "      <td>NaN</td>\n",
       "      <td>21.6</td>\n",
       "    </tr>\n",
       "    <tr>\n",
       "      <th>2023-06-07</th>\n",
       "      <td>NaN</td>\n",
       "      <td>NaN</td>\n",
       "      <td>NaN</td>\n",
       "      <td>NaN</td>\n",
       "      <td>NaN</td>\n",
       "      <td>NaN</td>\n",
       "      <td>NaN</td>\n",
       "      <td>NaN</td>\n",
       "      <td>NaN</td>\n",
       "      <td>NaN</td>\n",
       "      <td>NaN</td>\n",
       "      <td>NaN</td>\n",
       "      <td>NaN</td>\n",
       "      <td>NaN</td>\n",
       "      <td>NaN</td>\n",
       "      <td>NaN</td>\n",
       "      <td>NaN</td>\n",
       "      <td>NaN</td>\n",
       "      <td>NaN</td>\n",
       "      <td>NaN</td>\n",
       "      <td>NaN</td>\n",
       "      <td>NaN</td>\n",
       "      <td>NaN</td>\n",
       "    </tr>\n",
       "  </tbody>\n",
       "</table>\n",
       "</div>"
      ],
      "text/plain": [
       "            CACHACHI  CAJABAMBA  ASUNCION  ...  SAN MIGUEL  LIVES  SAN PABLO\n",
       "Fecha                                      ...                              \n",
       "2023-06-01      16.4       21.3      27.6  ...        20.6    NaN       22.8\n",
       "2023-06-02      18.4       21.3      23.2  ...        19.6    NaN       21.2\n",
       "2023-06-03      18.8       21.6      23.6  ...        19.0    NaN       21.6\n",
       "2023-06-04      18.2       21.7      25.2  ...        20.2    NaN       23.0\n",
       "2023-06-05      17.0       22.1      27.8  ...        20.8    NaN       22.6\n",
       "2023-06-06      17.2       22.7      23.6  ...        20.0    NaN       21.6\n",
       "2023-06-07       NaN        NaN       NaN  ...         NaN    NaN        NaN\n",
       "\n",
       "[7 rows x 23 columns]"
      ]
     },
     "execution_count": 9,
     "metadata": {},
     "output_type": "execute_result"
    }
   ],
   "source": [
    "ds.mx[(ds.mx.index.month == ds.this_month)]"
   ]
  },
  {
   "cell_type": "code",
   "execution_count": 7,
   "metadata": {},
   "outputs": [
    {
     "data": {
      "text/html": [
       "<div>\n",
       "<style scoped>\n",
       "    .dataframe tbody tr th:only-of-type {\n",
       "        vertical-align: middle;\n",
       "    }\n",
       "\n",
       "    .dataframe tbody tr th {\n",
       "        vertical-align: top;\n",
       "    }\n",
       "\n",
       "    .dataframe thead th {\n",
       "        text-align: right;\n",
       "    }\n",
       "</style>\n",
       "<table border=\"1\" class=\"dataframe\">\n",
       "  <thead>\n",
       "    <tr style=\"text-align: right;\">\n",
       "      <th></th>\n",
       "      <th>Lat</th>\n",
       "      <th>Lon</th>\n",
       "      <th>TMIN</th>\n",
       "      <th>TMAX</th>\n",
       "      <th>PP</th>\n",
       "    </tr>\n",
       "    <tr>\n",
       "      <th>ESTACIONES</th>\n",
       "      <th></th>\n",
       "      <th></th>\n",
       "      <th></th>\n",
       "      <th></th>\n",
       "      <th></th>\n",
       "    </tr>\n",
       "  </thead>\n",
       "  <tbody>\n",
       "    <tr>\n",
       "      <th>CACHACHI</th>\n",
       "      <td>-7.45106</td>\n",
       "      <td>-78.26855</td>\n",
       "      <td>6.2</td>\n",
       "      <td>17.2</td>\n",
       "      <td>0.0</td>\n",
       "    </tr>\n",
       "    <tr>\n",
       "      <th>CAJABAMBA</th>\n",
       "      <td>-7.62166</td>\n",
       "      <td>-78.05131</td>\n",
       "      <td>8.9</td>\n",
       "      <td>22.7</td>\n",
       "      <td>0.0</td>\n",
       "    </tr>\n",
       "    <tr>\n",
       "      <th>ASUNCION</th>\n",
       "      <td>-7.32604</td>\n",
       "      <td>-78.51582</td>\n",
       "      <td>12.8</td>\n",
       "      <td>23.6</td>\n",
       "      <td>0.0</td>\n",
       "    </tr>\n",
       "    <tr>\n",
       "      <th>GRANJA PORCON</th>\n",
       "      <td>-7.03753</td>\n",
       "      <td>-78.63340</td>\n",
       "      <td>2.3</td>\n",
       "      <td>18.7</td>\n",
       "      <td>0.0</td>\n",
       "    </tr>\n",
       "    <tr>\n",
       "      <th>AUGUSTO WEBERBAUER</th>\n",
       "      <td>-7.16750</td>\n",
       "      <td>-78.49309</td>\n",
       "      <td>5.8</td>\n",
       "      <td>22.2</td>\n",
       "      <td>0.0</td>\n",
       "    </tr>\n",
       "    <tr>\n",
       "      <th>COSPAN</th>\n",
       "      <td>-7.42857</td>\n",
       "      <td>-78.54106</td>\n",
       "      <td>NaN</td>\n",
       "      <td>NaN</td>\n",
       "      <td>NaN</td>\n",
       "    </tr>\n",
       "    <tr>\n",
       "      <th>LA ENCAÑADA</th>\n",
       "      <td>-7.12327</td>\n",
       "      <td>-78.33314</td>\n",
       "      <td>2.3</td>\n",
       "      <td>19.6</td>\n",
       "      <td>0.0</td>\n",
       "    </tr>\n",
       "    <tr>\n",
       "      <th>JESUS</th>\n",
       "      <td>-7.24570</td>\n",
       "      <td>-78.38841</td>\n",
       "      <td>6.8</td>\n",
       "      <td>28.2</td>\n",
       "      <td>0.0</td>\n",
       "    </tr>\n",
       "    <tr>\n",
       "      <th>MAGDALENA</th>\n",
       "      <td>-7.25346</td>\n",
       "      <td>-78.65261</td>\n",
       "      <td>17.0</td>\n",
       "      <td>29.0</td>\n",
       "      <td>0.0</td>\n",
       "    </tr>\n",
       "    <tr>\n",
       "      <th>NAMORA</th>\n",
       "      <td>-7.20060</td>\n",
       "      <td>-78.32782</td>\n",
       "      <td>4.6</td>\n",
       "      <td>22.3</td>\n",
       "      <td>0.0</td>\n",
       "    </tr>\n",
       "    <tr>\n",
       "      <th>SAN JUAN</th>\n",
       "      <td>-7.29756</td>\n",
       "      <td>-78.49106</td>\n",
       "      <td>12.0</td>\n",
       "      <td>25.4</td>\n",
       "      <td>0.0</td>\n",
       "    </tr>\n",
       "    <tr>\n",
       "      <th>CELENDIN</th>\n",
       "      <td>-6.85292</td>\n",
       "      <td>-78.14485</td>\n",
       "      <td>8.0</td>\n",
       "      <td>20.0</td>\n",
       "      <td>0.0</td>\n",
       "    </tr>\n",
       "    <tr>\n",
       "      <th>CONTUMAZA</th>\n",
       "      <td>-7.36521</td>\n",
       "      <td>-78.82273</td>\n",
       "      <td>7.8</td>\n",
       "      <td>21.6</td>\n",
       "      <td>0.0</td>\n",
       "    </tr>\n",
       "    <tr>\n",
       "      <th>SAN BENITO</th>\n",
       "      <td>-7.42819</td>\n",
       "      <td>-78.92673</td>\n",
       "      <td>15.8</td>\n",
       "      <td>25.6</td>\n",
       "      <td>0.0</td>\n",
       "    </tr>\n",
       "    <tr>\n",
       "      <th>MONTE GRANDE</th>\n",
       "      <td>-7.22499</td>\n",
       "      <td>-79.15323</td>\n",
       "      <td>12.8</td>\n",
       "      <td>30.0</td>\n",
       "      <td>0.0</td>\n",
       "    </tr>\n",
       "    <tr>\n",
       "      <th>CHUGUR</th>\n",
       "      <td>-6.66667</td>\n",
       "      <td>-78.73333</td>\n",
       "      <td>NaN</td>\n",
       "      <td>NaN</td>\n",
       "      <td>0.0</td>\n",
       "    </tr>\n",
       "    <tr>\n",
       "      <th>SONDOR-MATARA</th>\n",
       "      <td>-7.23687</td>\n",
       "      <td>-78.21262</td>\n",
       "      <td>7.5</td>\n",
       "      <td>21.2</td>\n",
       "      <td>0.0</td>\n",
       "    </tr>\n",
       "    <tr>\n",
       "      <th>SAN MARCOS</th>\n",
       "      <td>-7.32249</td>\n",
       "      <td>-78.17270</td>\n",
       "      <td>7.0</td>\n",
       "      <td>25.6</td>\n",
       "      <td>0.0</td>\n",
       "    </tr>\n",
       "    <tr>\n",
       "      <th>QUILCATE</th>\n",
       "      <td>-6.82275</td>\n",
       "      <td>-78.74400</td>\n",
       "      <td>4.6</td>\n",
       "      <td>17.6</td>\n",
       "      <td>0.0</td>\n",
       "    </tr>\n",
       "    <tr>\n",
       "      <th>LLAPA</th>\n",
       "      <td>-6.97833</td>\n",
       "      <td>-78.81119</td>\n",
       "      <td>5.6</td>\n",
       "      <td>19.6</td>\n",
       "      <td>0.0</td>\n",
       "    </tr>\n",
       "    <tr>\n",
       "      <th>SAN MIGUEL</th>\n",
       "      <td>-6.99684</td>\n",
       "      <td>-78.85308</td>\n",
       "      <td>9.6</td>\n",
       "      <td>20.0</td>\n",
       "      <td>0.0</td>\n",
       "    </tr>\n",
       "    <tr>\n",
       "      <th>LIVES</th>\n",
       "      <td>-7.08020</td>\n",
       "      <td>-79.04045</td>\n",
       "      <td>NaN</td>\n",
       "      <td>NaN</td>\n",
       "      <td>0.0</td>\n",
       "    </tr>\n",
       "    <tr>\n",
       "      <th>SAN PABLO</th>\n",
       "      <td>-7.11775</td>\n",
       "      <td>-78.83083</td>\n",
       "      <td>12.4</td>\n",
       "      <td>21.6</td>\n",
       "      <td>0.0</td>\n",
       "    </tr>\n",
       "  </tbody>\n",
       "</table>\n",
       "</div>"
      ],
      "text/plain": [
       "                        Lat       Lon  TMIN  TMAX   PP\n",
       "ESTACIONES                                            \n",
       "CACHACHI           -7.45106 -78.26855   6.2  17.2  0.0\n",
       "CAJABAMBA          -7.62166 -78.05131   8.9  22.7  0.0\n",
       "ASUNCION           -7.32604 -78.51582  12.8  23.6  0.0\n",
       "GRANJA PORCON      -7.03753 -78.63340   2.3  18.7  0.0\n",
       "AUGUSTO WEBERBAUER -7.16750 -78.49309   5.8  22.2  0.0\n",
       "COSPAN             -7.42857 -78.54106   NaN   NaN  NaN\n",
       "LA ENCAÑADA        -7.12327 -78.33314   2.3  19.6  0.0\n",
       "JESUS              -7.24570 -78.38841   6.8  28.2  0.0\n",
       "MAGDALENA          -7.25346 -78.65261  17.0  29.0  0.0\n",
       "NAMORA             -7.20060 -78.32782   4.6  22.3  0.0\n",
       "SAN JUAN           -7.29756 -78.49106  12.0  25.4  0.0\n",
       "CELENDIN           -6.85292 -78.14485   8.0  20.0  0.0\n",
       "CONTUMAZA          -7.36521 -78.82273   7.8  21.6  0.0\n",
       "SAN BENITO         -7.42819 -78.92673  15.8  25.6  0.0\n",
       "MONTE GRANDE       -7.22499 -79.15323  12.8  30.0  0.0\n",
       "CHUGUR             -6.66667 -78.73333   NaN   NaN  0.0\n",
       "SONDOR-MATARA      -7.23687 -78.21262   7.5  21.2  0.0\n",
       "SAN MARCOS         -7.32249 -78.17270   7.0  25.6  0.0\n",
       "QUILCATE           -6.82275 -78.74400   4.6  17.6  0.0\n",
       "LLAPA              -6.97833 -78.81119   5.6  19.6  0.0\n",
       "SAN MIGUEL         -6.99684 -78.85308   9.6  20.0  0.0\n",
       "LIVES              -7.08020 -79.04045   NaN   NaN  0.0\n",
       "SAN PABLO          -7.11775 -78.83083  12.4  21.6  0.0"
      ]
     },
     "execution_count": 7,
     "metadata": {},
     "output_type": "execute_result"
    }
   ],
   "source": [
    "ld.last_data_df"
   ]
  }
 ],
 "metadata": {
  "kernelspec": {
   "display_name": "dz3",
   "language": "python",
   "name": "python3"
  },
  "language_info": {
   "codemirror_mode": {
    "name": "ipython",
    "version": 3
   },
   "file_extension": ".py",
   "mimetype": "text/x-python",
   "name": "python",
   "nbconvert_exporter": "python",
   "pygments_lexer": "ipython3",
   "version": "3.8.10"
  },
  "orig_nbformat": 4
 },
 "nbformat": 4,
 "nbformat_minor": 2
}
