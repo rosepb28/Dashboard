{
 "cells": [
  {
   "cell_type": "code",
   "execution_count": 1,
   "metadata": {},
   "outputs": [
    {
     "name": "stderr",
     "output_type": "stream",
     "text": [
      "Leyendo datos de web lvera: 100%|\u001b[36m██████████\u001b[0m| 22/22 [00:00<00:00, 105.59it/s]"
     ]
    },
    {
     "name": "stdout",
     "output_type": "stream",
     "text": [
      "Datos de lvera listos.\n"
     ]
    },
    {
     "name": "stderr",
     "output_type": "stream",
     "text": [
      "\n"
     ]
    }
   ],
   "source": [
    "from scripts.dashboard import Dashboard\n",
    "\n",
    "ds = Dashboard(graphs=False)"
   ]
  },
  {
   "cell_type": "code",
   "execution_count": 2,
   "metadata": {},
   "outputs": [],
   "source": [
    "import os\n",
    "import pandas as pd\n",
    "import xlsxwriter as xw\n",
    "from scripts.calculations import Utils\n",
    "from scripts.calculations import Anomalies\n",
    "from dateutil.relativedelta import relativedelta"
   ]
  },
  {
   "cell_type": "code",
   "execution_count": 27,
   "metadata": {},
   "outputs": [],
   "source": [
    "from scripts.calculations import LastData"
   ]
  },
  {
   "cell_type": "code",
   "execution_count": 31,
   "metadata": {},
   "outputs": [],
   "source": [
    "df = ds.last_data_df.reset_index()"
   ]
  },
  {
   "cell_type": "code",
   "execution_count": 33,
   "metadata": {},
   "outputs": [
    {
     "data": {
      "text/plain": [
       "2023"
      ]
     },
     "execution_count": 33,
     "metadata": {},
     "output_type": "execute_result"
    }
   ],
   "source": [
    "ds.year"
   ]
  },
  {
   "cell_type": "code",
   "execution_count": 3,
   "metadata": {},
   "outputs": [],
   "source": [
    "if ds.day == 1:\n",
    "    this_month = ds.past_month\n",
    "    month = (ds.today - relativedelta(months=1)).strftime(\"%b\")\n",
    "    this_month_day_list = ds.past_month_days_list\n",
    "else:\n",
    "    this_month = ds.this_month\n",
    "    month = ds.today.strftime(\"%b\")\n",
    "    this_month_day_list = ds.this_month_days_list"
   ]
  },
  {
   "cell_type": "code",
   "execution_count": 5,
   "metadata": {},
   "outputs": [],
   "source": [
    "month = ds.today.strftime(\"%b\")\n",
    "exported_path = \"Data/Exported\"\n",
    "\n",
    "# Lista de estaciones pluviométricas\n",
    "plu_st = [\"LIVES\", \"CHUGUR\"]"
   ]
  },
  {
   "cell_type": "code",
   "execution_count": 6,
   "metadata": {},
   "outputs": [],
   "source": [
    "# Creando hoja de excel\n",
    "wbk = xw.Workbook(os.path.join(exported_path, f\"{this_month}_{month}_DATOS.xlsx\"))"
   ]
  },
  {
   "cell_type": "code",
   "execution_count": 7,
   "metadata": {},
   "outputs": [
    {
     "data": {
      "text/plain": [
       "<xlsxwriter.worksheet.Worksheet at 0x7f84b5baafa0>"
      ]
     },
     "execution_count": 7,
     "metadata": {},
     "output_type": "execute_result"
    }
   ],
   "source": [
    "# Hoja con promedios y acumulados mensuales\n",
    "wst_means = wbk.add_worksheet(\"Means\")\n",
    "\n",
    "# Calculo\n",
    "tmin_mean = ds.get_monthly_means(\"tmin\", ds.mn, ds.this_month).rename(\n",
    "    columns={\"Mean\": \"TMIN\"}\n",
    ")\n",
    "tmax_mean = ds.get_monthly_means(\"tmax\", ds.mx, this_month).rename(\n",
    "    columns={\"Mean\": \"TMAX\"}\n",
    ")\n",
    "pp_sum = ds.get_monthly_means(\"pp\", ds.pp, this_month).rename(columns={\"Sum\": \"PP\"})\n",
    "\n",
    "# Combinando datos en un solo dataframe\n",
    "df_means = pd.DataFrame({\n",
    "    'TMAX': tmax_mean['TMAX'],\n",
    "    'TMIN': tmin_mean['TMIN'],\n",
    "    'PP': pp_sum['PP']\n",
    "}).reindex(columns=['TMAX', 'TMIN', 'PP'])\n",
    "\n",
    "# Añadiendo coordenadas\n",
    "df = Utils(df_means, ds.file).add_lat_lon().rename_axis(\"Estaciones\").reset_index()\n",
    "\n",
    "#data_wo_color(wbk, wst_means, df)\n",
    "ExcelWriter(wbk, wst_means).no_color_cell(df)"
   ]
  },
  {
   "cell_type": "code",
   "execution_count": 8,
   "metadata": {},
   "outputs": [
    {
     "data": {
      "text/plain": [
       "<xlsxwriter.worksheet.Worksheet at 0x7f84b5a545b0>"
      ]
     },
     "execution_count": 8,
     "metadata": {},
     "output_type": "execute_result"
    }
   ],
   "source": [
    "wst_anomalies = wbk.add_worksheet(\"Anomalies\")\n",
    "\n",
    "amn = Anomalies(\n",
    "    \"tmin\", tmin_mean, ds.this_month, ds.file, ds.file_w_normals\n",
    ").calculate_anomalies()\n",
    "amx = Anomalies(\n",
    "    \"tmax\", tmax_mean, this_month, ds.file, ds.file_w_normals\n",
    ").calculate_anomalies()\n",
    "app = Anomalies(\n",
    "    \"pp\", pp_sum, this_month, ds.file, ds.file_w_normals\n",
    ").calculate_anomalies()\n",
    "\n",
    "df_anomalies = pd.DataFrame({\n",
    "    'TMAX': amx['anomaly'],\n",
    "    'TMIN': amn['anomaly'],\n",
    "    'PP': app['anomaly']\n",
    "}).reindex(columns=['TMAX', 'TMIN', 'PP'])\n",
    "\n",
    "df = Utils(df_anomalies, ds.file).add_lat_lon().rename_axis(\"Estaciones\").reset_index()\n",
    "\n",
    "#data_wo_color(wbk, wst_anomalies, df)\n",
    "ExcelWriter(wbk, wst_anomalies).no_color_cell(df)"
   ]
  },
  {
   "cell_type": "code",
   "execution_count": 9,
   "metadata": {},
   "outputs": [
    {
     "data": {
      "text/plain": [
       "<xlsxwriter.worksheet.Worksheet at 0x7f84b5b9b070>"
      ]
     },
     "execution_count": 9,
     "metadata": {},
     "output_type": "execute_result"
    }
   ],
   "source": [
    "# Hoja de datos diarios de TMAX (todas las estaciones)\n",
    "wst_tmax = wbk.add_worksheet(\"TMAX\")\n",
    "\n",
    "# Extrayendo los datos del mes actual\n",
    "df_tmax = ds.mx[ds.mx.index.month == this_month]\n",
    "\n",
    "df = pd.DataFrame(index=this_month_day_list, columns=df_tmax.columns)\n",
    "\n",
    "for i in range(len(df_tmax)):\n",
    "    df.iloc[i] = df_tmax.values[i]\n",
    "\n",
    "df = df.T[~df.T.index.isin(plu_st)]\n",
    "df = df.rename_axis(\"Estaciones\").reset_index()\n",
    "\n",
    "#data_wo_color(wbk, wst_tmax, df, extend=True)\n",
    "ExcelWriter(wbk, wst_tmax).no_color_cell(df, extend=True)"
   ]
  },
  {
   "cell_type": "code",
   "execution_count": 10,
   "metadata": {},
   "outputs": [
    {
     "data": {
      "text/plain": [
       "<xlsxwriter.worksheet.Worksheet at 0x7f84b5a4d8e0>"
      ]
     },
     "execution_count": 10,
     "metadata": {},
     "output_type": "execute_result"
    }
   ],
   "source": [
    "# Hoja de datos diarios de TMIN (todas las estaciones)\n",
    "wst_tmin = wbk.add_worksheet(\"TMIN\")\n",
    "\n",
    "# Extrayendo los datos del mes actual\n",
    "df_tmin = ds.mn[ds.mn.index.month == ds.this_month]\n",
    "\n",
    "df = pd.DataFrame(index=ds.this_month_days_list, columns=df_tmin.columns)\n",
    "\n",
    "for i in range(len(df_tmin)):\n",
    "    df.iloc[i] = df_tmin.values[i]\n",
    "\n",
    "df = df.T[~df.T.index.isin(plu_st)]\n",
    "df = df.rename_axis(\"Estaciones\").reset_index()\n",
    "\n",
    "#data_wo_color(wbk, wst_tmin, df, extend=True)\n",
    "ExcelWriter(wbk, wst_tmin).no_color_cell(df, extend=True)"
   ]
  },
  {
   "cell_type": "code",
   "execution_count": 11,
   "metadata": {},
   "outputs": [
    {
     "data": {
      "text/plain": [
       "<xlsxwriter.worksheet.Worksheet at 0x7f84b5b9b100>"
      ]
     },
     "execution_count": 11,
     "metadata": {},
     "output_type": "execute_result"
    }
   ],
   "source": [
    "# Hoja de datos diarios de PP (todas las estaciones)\n",
    "wst_pp = wbk.add_worksheet(\"PP\")\n",
    "\n",
    "# Extrayendo los datos del mes actual\n",
    "df_pp = ds.pp[ds.pp.index.month == this_month]\n",
    "\n",
    "df = pd.DataFrame(index=this_month_day_list, columns=df_pp.columns)\n",
    "\n",
    "for i in range(len(df_pp)):\n",
    "    df.iloc[i] = df_pp.values[i]\n",
    "\n",
    "df = df.T.rename_axis(\"Estaciones\").reset_index()\n",
    "\n",
    "#data_wo_color(wbk, wst_pp, df, extend=True)\n",
    "ExcelWriter(wbk, wst_pp).no_color_cell(df, extend=True)"
   ]
  },
  {
   "cell_type": "code",
   "execution_count": 12,
   "metadata": {},
   "outputs": [
    {
     "data": {
      "text/plain": [
       "<xlsxwriter.worksheet.Worksheet at 0x7f84b5910640>"
      ]
     },
     "execution_count": 12,
     "metadata": {},
     "output_type": "execute_result"
    }
   ],
   "source": [
    "# Hoja de DECADIARIAS\n",
    "wst_dec = wbk.add_worksheet(\"Dec\")\n",
    "\n",
    "from scripts.calculations import Decadiarias\n",
    "\n",
    "df = Decadiarias(ds.pp, this_month, ds.file, ds.dec_file).calculate_anom().iloc[:, :-3]\n",
    "\n",
    "#data_wo_color(wbk, wst_dec, df)\n",
    "\n",
    "ExcelWriter(wbk, wst_dec).no_color_cell(df)"
   ]
  },
  {
   "cell_type": "code",
   "execution_count": 13,
   "metadata": {},
   "outputs": [
    {
     "data": {
      "text/plain": [
       "<xlsxwriter.worksheet.Worksheet at 0x7f84b5a763a0>"
      ]
     },
     "execution_count": 13,
     "metadata": {},
     "output_type": "execute_result"
    }
   ],
   "source": [
    "# Hoja de caracterización de TMAX\n",
    "wst_ctmax = wbk.add_worksheet(\"cTmax\")\n",
    "#data_w_color(wbk, wst_ctmax, 'tmax', ds, this_month, this_month_day_list)\n",
    "ExcelWriter(wbk, wst_ctmax).colored_cell('tmax', ds, this_month, this_month_day_list)"
   ]
  },
  {
   "cell_type": "code",
   "execution_count": 14,
   "metadata": {},
   "outputs": [
    {
     "data": {
      "text/plain": [
       "<xlsxwriter.worksheet.Worksheet at 0x7f84b5910af0>"
      ]
     },
     "execution_count": 14,
     "metadata": {},
     "output_type": "execute_result"
    }
   ],
   "source": [
    "# Hoja de caracterización de TMIN\n",
    "wst_ctmin = wbk.add_worksheet(\"cTmin\")\n",
    "#data_w_color(wbk, wst_ctmin, 'tmin', ds, this_month, this_month_day_list)\n",
    "ExcelWriter(wbk, wst_ctmin).colored_cell('tmin', ds, this_month, this_month_day_list)"
   ]
  },
  {
   "cell_type": "code",
   "execution_count": 15,
   "metadata": {},
   "outputs": [
    {
     "data": {
      "text/plain": [
       "<xlsxwriter.worksheet.Worksheet at 0x7f84b5984550>"
      ]
     },
     "execution_count": 15,
     "metadata": {},
     "output_type": "execute_result"
    }
   ],
   "source": [
    "# Hoja de caracterización de PP\n",
    "wst_cpp = wbk.add_worksheet(\"cPP\")\n",
    "#data_w_color(wbk, wst_cpp, 'pp', ds, this_month, this_month_day_list)\n",
    "ExcelWriter(wbk, wst_cpp).colored_cell('pp', ds, this_month, this_month_day_list)"
   ]
  },
  {
   "cell_type": "code",
   "execution_count": 16,
   "metadata": {},
   "outputs": [],
   "source": [
    "wbk.close()"
   ]
  }
 ],
 "metadata": {
  "kernelspec": {
   "display_name": "dz3",
   "language": "python",
   "name": "python3"
  },
  "language_info": {
   "codemirror_mode": {
    "name": "ipython",
    "version": 3
   },
   "file_extension": ".py",
   "mimetype": "text/x-python",
   "name": "python",
   "nbconvert_exporter": "python",
   "pygments_lexer": "ipython3",
   "version": "3.8.10"
  },
  "orig_nbformat": 4
 },
 "nbformat": 4,
 "nbformat_minor": 2
}
